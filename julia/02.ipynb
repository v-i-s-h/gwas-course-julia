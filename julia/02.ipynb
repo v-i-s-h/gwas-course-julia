{
 "cells": [
  {
   "cell_type": "markdown",
   "id": "coastal-tooth",
   "metadata": {},
   "source": [
    "# P-values in GWAS"
   ]
  },
  {
   "cell_type": "code",
   "execution_count": null,
   "id": "younger-criterion",
   "metadata": {},
   "outputs": [],
   "source": [
    "using Distributions\n",
    "using DataFrames\n",
    "using GLM\n",
    "using Plots, Measures, StatsPlots\n",
    "using StatsPlots\n",
    "using Printf"
   ]
  },
  {
   "cell_type": "markdown",
   "id": "transparent-killing",
   "metadata": {},
   "source": [
    "## 2.1 What is P-value?"
   ]
  },
  {
   "cell_type": "code",
   "execution_count": null,
   "id": "legendary-milton",
   "metadata": {},
   "outputs": [],
   "source": [
    "n = 100\n",
    "f = 0.30 # MAF\n",
    "x = rand(Binomial(2, f), n) # example genotypes for n individuals\n",
    "y = randn(n) # outcome that is independent of x\n",
    "lm_fit = lm(@formula(y ~ x), DataFrame(\"x\"=>x, \"y\"=>y, copycols=false))"
   ]
  },
  {
   "cell_type": "code",
   "execution_count": null,
   "id": "broad-alliance",
   "metadata": {},
   "outputs": [],
   "source": [
    "p = plot(layout=(1, 2), size=(800, 400), bottom_margin=7mm) # draw two panel on the grid with 1 row and 2 cols\n",
    "\n",
    "coef_values = coeftable(lm_fit)\n",
    "t_stat = coef_values.cols[coef_values.teststatcol][coef_values.rownms.==\"x\"][1] # Extract t-value for variable 'x'\n",
    "p_val = coef_values.cols[coef_values.pvalcol][coef_values.rownms.==\"x\"][1]\n",
    "\n",
    "#1 on t-statistic's scale\n",
    "# x_grid = range(-3.0, +3.0, 0.05) # we need to define the plotting regio\n",
    "plot!(p, TDist(n-2), label=nothing, lw=2, ls=:dash, lc=:black,\n",
    "    xaxis=(\"\\$\\\\frac{\\\\hat{\\\\beta}}{SE}\\$\", (-3, +3)),\n",
    "    yaxis=(\"density\")\n",
    ")\n",
    "scatter!(p, [t_stat], [0], color=:red, markersize=7, label=\"Observed\")\n",
    "plot!(p, t_stat * [1, 1], [0, pdf(TDist(n-2), t_stat)], lw=2, lc=:red, label=nothing)\n",
    "plot!(p, -t_stat * [1, 1], [0, pdf(TDist(n-2), t_stat)], lw=2, lc=:red, label=nothing)\n",
    "annotate!(2.0, 0.25, text(@sprintf(\"P =%.3f\", p_val), :red), subplot=1)\n",
    "title!(p, \"NULL DISTR of t\")\n",
    "\n",
    "#2nd of t^2 statistics\n",
    "plot!(p, Chisq(1), label=nothing, lw=2, ls=:dash, lc=:black,\n",
    "    xaxis=(\"\\$\\\\left(\\\\frac{\\\\hat{\\\\beta}}{SE}\\\\right)^2\\$\", (-0.5, 10)),\n",
    "    yaxis=(\"density\", (-0.05, 2.5)),\n",
    "    subplot=2\n",
    ")\n",
    "scatter!(p, [t_stat^2], [0], color=:red, markersize=7, label=\"Observed\", subplot=2)\n",
    "plot!(p, t_stat^2 * [1, 1], [0, pdf(Chisq(1), t_stat^2)], lw=2, lc=:red, label=nothing, subplot=2)\n",
    "annotate!(3.5, 1, text(@sprintf(\"P = %.3f\", p_val), :red), subplot=2)\n",
    "title!(p, \"NULL DISTR of t^2\", subplot=2)"
   ]
  },
  {
   "cell_type": "code",
   "execution_count": null,
   "id": "ahead-movement",
   "metadata": {},
   "outputs": [],
   "source": [
    "z = t_stat # t-statistic is also called z-score under Normal approximation\n",
    "cdf(Normal(), -abs(z)) + ccdf(Normal(), abs(z))"
   ]
  },
  {
   "cell_type": "code",
   "execution_count": null,
   "id": "conventional-priority",
   "metadata": {},
   "outputs": [],
   "source": [
    "ccdf(Chisq(1), t_stat^2)"
   ]
  },
  {
   "cell_type": "markdown",
   "id": "fifteen-anime",
   "metadata": {},
   "source": [
    "## 2.2 Distribution of P-values"
   ]
  },
  {
   "cell_type": "code",
   "execution_count": null,
   "id": "stunning-arena",
   "metadata": {},
   "outputs": [],
   "source": [
    "n = 100 # individuals\n",
    "p = 1000 # variants measured on each individual\n",
    "f = 0.40 # MAF is assumed the same for all variants; does not actually matter here\n",
    "X = rand(Binomial(2, f), (n, p)) # just random genotypes\n",
    "y = randn(n) # pheonotype that is not associated with any genotype\n",
    "\n",
    "lm_res = [lm(@formula(x ~ y), DataFrame(\"x\"=>X[:,i], \"y\"=>y, copycols=false)) |> # compute linear model\n",
    "    coeftable |> # get coefficents\n",
    "    c -> [c.cols[3][2], c.cols[4][2]] # extract t-stat and p-value for \"x\"\n",
    "    for i ∈ 1:p] # for all 'p' variants\n",
    "\n",
    "t_stats = [x[1] for x ∈ lm_res]\n",
    "p_vals = [x[2] for x ∈ lm_res]\n",
    "\n",
    "fig = plot(layout=(1, 2), size=(800, 400))\n",
    "density!(fig, t_stats, lwd=2, lc=:black, xaxis=(\"t-stat\"), label=\"density\", subplot=1)\n",
    "plot!(fig, TDist(n-2), lc=:blue, ls=:dot, label=\"t(n-2)\", subplot=1)\n",
    "plot!(fig, Normal(), lc=:red, ls=:dash, label=\"Normal(0, 1)\", subplot=1)\n",
    "histogram!(fig, p_vals, subplot=2, color=:limegreen, label=nothing)"
   ]
  },
  {
   "cell_type": "code",
   "execution_count": null,
   "id": "plastic-syndication",
   "metadata": {},
   "outputs": [],
   "source": [
    "fig = plot(layout=(1, 2), size=(800, 400), margin=7mm)\n",
    "qqnorm!(fig, subplot=1, t_stats, qqline=:R,\n",
    "    xaxis=(\"Theoretical Quantiles\"), yaxis=(\"Sample Quantiles\"),\n",
    "    title=(\"Normal Q-Q Plot\")\n",
    ")\n",
    "\n",
    "# For P-values, we want to comapre to the uniform(0, 1) distribution\n",
    "# We need to get p-equally spaced values in (0, 1) to represent quantiles\n",
    "# of Uniform(0, 1)\n",
    "# We take -log10 transformation to see small P-values particularly well\n",
    "qqplot!(fig, subplot=2, -log10.((0.5:1:p) ./ p), -log10.(p_vals), qqline=:identity,\n",
    "    xaxis=(\"Theoretical\"), yaxis=(\"Observed\"),\n",
    "    title=(\"Q-Q plot for -log10 Pval\")\n",
    ")"
   ]
  },
  {
   "cell_type": "code",
   "execution_count": null,
   "id": "polyphonic-water",
   "metadata": {},
   "outputs": [],
   "source": [
    "ecdfplot(p_vals, label=nothing,\n",
    "    xlabel=\"sig threshold\", ylab=\"proportion PVal < thresh\",\n",
    "    title=\"ECDF of Pvalues\", size=(400, 400)\n",
    ")"
   ]
  },
  {
   "cell_type": "code",
   "execution_count": null,
   "id": "separated-release",
   "metadata": {},
   "outputs": [],
   "source": [
    "sum(p_vals .< 0.05)"
   ]
  },
  {
   "cell_type": "code",
   "execution_count": null,
   "id": "unique-tyler",
   "metadata": {},
   "outputs": [],
   "source": [
    "n = 1000 # individuals\n",
    "p = 1000 # genotypes measured on each individual\n",
    "m = 50 # number of variants that have an effect; they are x_1, ...x_m\n",
    "f = 0.4 # MAF\n",
    "b = 0.5 # effect size of variants that have an effect\n",
    "X = rand(Binomial(2, f), (n, p))\n",
    "y = X[:, 1:m] * fill(b, m) + randn(n)\n",
    "\n",
    "lm_res = [lm(@formula(x ~ y), DataFrame(\"x\"=>X[:,i], \"y\"=>y, copycols=false)) |> # compute linear model\n",
    "    coeftable |> # get coefficents\n",
    "    c -> [c.cols[3][2], c.cols[4][2]] # extract t-stat and p-value for \"x\"\n",
    "    for i ∈ 1:p] # for all 'p' variants\n",
    "\n",
    "t_stats = [x[1] for x ∈ lm_res]\n",
    "p_vals = [x[2] for x ∈ lm_res]\n",
    "\n",
    "fig = plot(layout=(1, 2), size=(800, 400))\n",
    "density!(fig, t_stats, lwd=2, lc=:black, xaxis=(\"t-stat\"), subplot=1)\n",
    "plot!(fig, Normal(), lc=:red, ls=:dash, label=\"Normal(0, 1)\", subplot=1)\n",
    "histogram!(fig, p_vals, subplot=2, color=:skyblue, label=nothing)"
   ]
  },
  {
   "cell_type": "code",
   "execution_count": null,
   "id": "dimensional-sigma",
   "metadata": {},
   "outputs": [],
   "source": [
    "fig = plot(layout=(1, 2), size=(800, 400), margin=7mm)\n",
    "qqnorm!(fig, subplot=1, t_stats, qqline=:R,\n",
    "    xaxis=(\"Theoretical Quantiles\"), yaxis=(\"Sample Quantiles\"),\n",
    "    title=(\"Normal Q-Q Plot\")\n",
    ")\n",
    "\n",
    "qqplot!(fig, subplot=2, -log10.((0.5:1:p) ./ p), -log10.(p_vals), qqline=:identity,\n",
    "    xaxis=(\"Theoretical\"), yaxis=(\"Observed\"),\n",
    "    title=(\"Q-Q plot for -log10 Pval\")\n",
    ")"
   ]
  },
  {
   "cell_type": "code",
   "execution_count": null,
   "id": "domestic-amber",
   "metadata": {},
   "outputs": [],
   "source": [
    "p_T = 1e-6\n",
    "prior_odds = p_T / (1 - p_T)\n",
    "pwr = 1 # upper bound for power --> upper bound for alpha\n",
    "post_odds = 0.95 / (1 - 0.95)\n",
    "alpha = prior_odds * pwr / post_odds"
   ]
  },
  {
   "cell_type": "code",
   "execution_count": null,
   "id": "resident-director",
   "metadata": {},
   "outputs": [],
   "source": []
  }
 ],
 "metadata": {
  "kernelspec": {
   "display_name": "Julia 1.6.0",
   "language": "julia",
   "name": "julia-1.6"
  },
  "language_info": {
   "file_extension": ".jl",
   "mimetype": "application/julia",
   "name": "julia",
   "version": "1.6.0"
  }
 },
 "nbformat": 4,
 "nbformat_minor": 5
}
