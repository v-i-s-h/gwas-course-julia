{
 "cells": [
  {
   "cell_type": "markdown",
   "id": "102f7fd8-3b61-424b-a05c-d3e4cedbd2d2",
   "metadata": {},
   "source": [
    "# Relatedness and Population Structure"
   ]
  },
  {
   "cell_type": "code",
   "execution_count": null,
   "id": "863f06f3-668d-4944-9182-025351064675",
   "metadata": {},
   "outputs": [],
   "source": [
    "using Distributions\n",
    "using DataFrames\n",
    "using MultivariateStats\n",
    "using Plots, Measures, StatsPlots\n",
    "using CSV, HTTP\n",
    "using Printf\n",
    "\n",
    "# Default plot settings\n",
    "gr(html_output_format=:png) # Avoid SVG and force PNG format for plots"
   ]
  },
  {
   "cell_type": "markdown",
   "id": "ef97d01a-e1da-44bb-87b4-88b0863b65e3",
   "metadata": {},
   "source": [
    "### Utility functions\n",
    "Some of these may have an efficient implementation in other packages, but for keeping\n",
    "things simple and complete, a crude implementation is given here."
   ]
  },
  {
   "cell_type": "code",
   "execution_count": null,
   "id": "1a447c18-0186-4715-a446-9fdd372c5335",
   "metadata": {},
   "outputs": [],
   "source": [
    "# scale() function of R\n",
    "scale_data(d::AbstractArray; dims=1) = (d .- mean(d, dims=dims)) ./ std(d, dims=dims)"
   ]
  },
  {
   "cell_type": "markdown",
   "id": "571e7a98-7b71-4f9f-95a1-c2bb0e8fa727",
   "metadata": {},
   "source": [
    "## 5.1 Genetic Relatedness"
   ]
  },
  {
   "cell_type": "markdown",
   "id": "5824cdf6-3fa3-48c2-89a2-a87bad4a4fb5",
   "metadata": {},
   "source": [
    "### 5.1.2 Estimating relatedness"
   ]
  },
  {
   "cell_type": "markdown",
   "id": "cd26495f-cdf8-4d21-82ec-2b73660356f0",
   "metadata": {},
   "source": [
    "##### Example 5.1"
   ]
  },
  {
   "cell_type": "code",
   "execution_count": null,
   "id": "5894e7b6-2ff2-42e3-8044-fb3eef7a2818",
   "metadata": {},
   "outputs": [],
   "source": [
    "\"\"\"\n",
    "    offspring_geno(n_families, n_snps, fs, n_shared_parents=2)\n",
    "\n",
    "Generating pairs of offspring that share `n_shared_parents` number of parents\n",
    "\n",
    "# Arguments\n",
    "- `n_families::Integer`: number of families where each family produces two offspring (>0)\n",
    "- `n_snps::Integer`: number of independent SNPs used in simulation (>0)\n",
    "- `fs::Vector{Float64}`: vector of allele 1 frequencies for SNPs, length == n_snps, values > 0 & < 1\n",
    "- `n_shared_parents::Integer`: 0, 1, 2 shared parents for two offspring in each family\n",
    "\n",
    "# Returns\n",
    "- `X::Matrix{Integer}`: the genotpe of 2xn_families offspring, (2xn_families) x n_snps matrix with 0, 1, 2 entries\n",
    "\"\"\"\n",
    "function offspring_geno(n_families, n_snps; fs=nothing, n_shared_parents=2)\n",
    "    n_families > 0 || throw(DomainError(\"`n_families` must be > 0\"))\n",
    "    n_snps > 0 || throw(DomainError(\"`n_snps` must be > 0\"))\n",
    "    \n",
    "    if fs == nothing\n",
    "        fs = fill(0.50, n_snps)\n",
    "    else\n",
    "        length(fs) == n_snps || throw(DomainError(\"`fs` must have length = `n_snps`\"))\n",
    "        all(0.0 .< fs .< 1.0) || throw(DomainError(\"Values of `fs` must be in (0.00, 1.00)\"))\n",
    "    end\n",
    "    \n",
    "    n_shared_parents ∈ 0:2 || throw(DomainError(\"`n_shared_parents` must be in {0, 1, 2}\")) \n",
    "\n",
    "    if n_shared_parents == 2\n",
    "        parents = [ [1, 2], [ 1, 2]]\n",
    "    elseif n_shared_parents == 1\n",
    "        parents = [ [1, 2], [ 3, 2]]\n",
    "    else # must be 0\n",
    "        parents = [ [1, 2], [ 3, 4]]\n",
    "    end\n",
    "    n_parents = 4 - n_shared_parents\n",
    "    \n",
    "    X = fill(0, 2n_families, n_snps)\n",
    "    for ii ∈ 1:n_families\n",
    "        x_parents = reduce(hcat, rand.(Binomial.(1, fs), 2*n_parents))\n",
    "        for offs ∈ 1:2 # for two offsprings within family\n",
    "            # phase is the indicator of whether offs inherit each parents' 1st allele or not\n",
    "            phase = rand(2, n_snps) .> 0.50\n",
    "            for i_parent ∈ 1:2\n",
    "                for ph ∈ 0:1\n",
    "                    loci = phase[i_parent, :] .== ph # which loci from i_parent have phase ph?\n",
    "                    # add to current offs' genotype i_parent's allele from correct phase\n",
    "                    X[2*(ii-1) + offs, loci] = X[2*(ii-1) + offs, loci] +\n",
    "                        x_parents[2*parents[offs][i_parent] - ph, loci]\n",
    "                end\n",
    "            end\n",
    "        end\n",
    "    end\n",
    "    \n",
    "    return X\n",
    "end"
   ]
  },
  {
   "cell_type": "code",
   "execution_count": null,
   "id": "f8507c2c-4128-44fa-89fe-61738d69ec46",
   "metadata": {},
   "outputs": [],
   "source": [
    "p = 10000 # SNPs\n",
    "fs = rand(p) .* 0.30 .+ 0.20 # MAF at each SNP is Uniform(0.2, 0.5)\n",
    "\n",
    "X = reduce(vcat, offspring_geno(5, p, fs=fs, n_shared_parents=n) for n ∈ 0:2)\n",
    "\n",
    "X = X[:, vec(mapslices(var, X, dims=1) .> 0)]; # remove possible monomorphic variants (SNP sites which have only single value)"
   ]
  },
  {
   "cell_type": "code",
   "execution_count": null,
   "id": "41e68e6e-4fc6-4f97-8b46-2ec97c234c05",
   "metadata": {},
   "outputs": [],
   "source": [
    "n_cols = 50 # number of colors\n",
    "IBS_2 = ((X.==2) * (X.==2)' .+ (X.==1) * (X.==1)' .+ (X.==0) * (X.==0)') / p;\n",
    "IBS_1 = ((X.==1) * ((X.==0) .| (X.==2))' .+ (X.==1) * ((X.==0) .| (X.==2))') / p\n",
    "IBS = @. IBS_2 + 0.50 * IBS_1\n",
    "heatmap(IBS, size=(450, 400), title=\"Avg. IBS for 10000 SNPs\", \n",
    "        xaxis=nothing, yaxis=nothing)"
   ]
  },
  {
   "cell_type": "code",
   "execution_count": null,
   "id": "78370e17-61c8-4f58-ac65-3adfd1835871",
   "metadata": {},
   "outputs": [],
   "source": [
    "X_scaled = scale_data(X) # standardize each SNP at columns of X\n",
    "GRM = (X_scaled * X_scaled') ./ p # correlation matrix of individuals based on standadized SNPs\n",
    "\n",
    "heatmap(GRM, size=(450, 400), title=\"Avg. IBS for 10000 SNPs\",\n",
    "        xaxis=nothing, yaxis=nothing)"
   ]
  },
  {
   "cell_type": "code",
   "execution_count": null,
   "id": "eab885ce-d08d-4808-bf89-d34ce22673a4",
   "metadata": {},
   "outputs": [],
   "source": [
    "full_sibs = findall(grm -> 0.40 < grm < 0.60, GRM)\n",
    "full_sibs = filter(x -> x.I[1] < x.I[2], full_sibs)\n",
    "reduce(vcat, [[x.I[1], x.I[2]] for x ∈ full_sibs])"
   ]
  },
  {
   "cell_type": "code",
   "execution_count": null,
   "id": "c218f5b7-c4fc-4e04-a6c1-e9f1dccfba8b",
   "metadata": {},
   "outputs": [],
   "source": [
    "half_sibs = findall(grm -> 0.15 < grm < 0.35, GRM)\n",
    "half_sibs = filter(x -> x.I[1] < x.I[2], half_sibs)\n",
    "reduce(vcat, [[x.I[1], x.I[2]] for x ∈ half_sibs])"
   ]
  },
  {
   "cell_type": "markdown",
   "id": "7dd728dc-2296-4346-aa43-655283ad3c5d",
   "metadata": {},
   "source": [
    "##### KING"
   ]
  },
  {
   "cell_type": "code",
   "execution_count": null,
   "id": "cffe12fd-b40f-4d99-bdaf-ffc93cb929ac",
   "metadata": {},
   "outputs": [],
   "source": [
    "denominator = repeat(sum(X.==1, dims=2)', size(X, 1), 1) .+ repeat(sum(X.==1, dims=2), 1, size(X, 1))\n",
    "king_r = 2 * ((X.==1) * (X.==1)' .- 2 * ((X.==0) * (X.==2)' + (X.==2) * (X.==0)')) ./ denominator\n",
    "\n",
    "heatmap(king_r, size=(450, 400), title=\"KING (r) for 10000 SNPs\",\n",
    "        xaxis=nothing, yaxis=nothing)"
   ]
  },
  {
   "cell_type": "markdown",
   "id": "9a799013-c2b4-4059-b1f9-bda8b4b6f4ea",
   "metadata": {},
   "source": [
    "## 5.2 Population Structure"
   ]
  },
  {
   "cell_type": "markdown",
   "id": "61cfe695-f276-4061-a29b-6e8bba4266a2",
   "metadata": {},
   "source": [
    "### 5.2.1 Sources of population structure"
   ]
  },
  {
   "cell_type": "markdown",
   "id": "fe6177e0-2091-4019-94fc-7d4da98b8dca",
   "metadata": {},
   "source": [
    "##### Example 5.2: Genetic Drift"
   ]
  },
  {
   "cell_type": "code",
   "execution_count": null,
   "id": "67e135ef-ee08-435c-beda-7b480627527a",
   "metadata": {},
   "outputs": [],
   "source": [
    "n = 100 # alleles in each generation of each population\n",
    "f0 = 0.50  # starting allele frequency\n",
    "K = 100 # number of generations in simulation\n",
    "npop = 10 # Let's make 10 rather than just 2 pops to illustrate more general behavior\n",
    "f = Matrix{Float64}(undef, npop, K+1) # results of allele freqs across pops and generation\n",
    "for pop ∈ 1:npop\n",
    "    a = rand(n) .< f0 # starting configuration of alleles\n",
    "    f[pop, 1] = mean(a) # allele frequency at generation 0\n",
    "    for ii ∈ 1:K\n",
    "        a = rand(a, n) # resample generation ii\n",
    "        f[pop, ii+1] = mean(a) # allele frequency at generation\n",
    "    end\n",
    "end\n",
    "\n",
    "plot(f', label=nothing, title=@sprintf(\"n = %d\", n),\n",
    "     ylabel=\"allele frequency\", xlabel=\"generation\",\n",
    "     xlims=[0, K], ylims=[0.0, 1.0])"
   ]
  },
  {
   "cell_type": "code",
   "execution_count": null,
   "id": "5bf9f957-e5da-4ca5-a506-f36d2c4cd644",
   "metadata": {},
   "outputs": [],
   "source": [
    "n = 1000 # alleles in each generation of each population\n",
    "f0 = 0.50  # starting allele frequency\n",
    "K = 100 # number of generations in simulation\n",
    "npop = 10 # Let's make 10 rather than just 2 pops to illustrate more general behavior\n",
    "f = Matrix{Float64}(undef, npop, K+1) # results of allele freqs across pops and generation\n",
    "for pop ∈ 1:npop\n",
    "    a = rand(n) .< f0 # starting configuration of alleles\n",
    "    f[pop, 1] = mean(a) # allele frequency at generation 0\n",
    "    for ii ∈ 1:K\n",
    "        a = rand(a, n) # resample generation ii\n",
    "        f[pop, ii+1] = mean(a) # allele frequency at generation\n",
    "    end\n",
    "end\n",
    "\n",
    "plot(f', label=nothing, title=@sprintf(\"n = %d\", n),\n",
    "     ylabel=\"allele frequency\", xlabel=\"generation\",\n",
    "     xlims=[0, K], ylims=[0.0, 1.0])"
   ]
  },
  {
   "cell_type": "markdown",
   "id": "57cb6913-3b6d-41fe-a1bb-6b18e571d236",
   "metadata": {},
   "source": [
    "### 5.2.2 Principal component analysis (PCA)"
   ]
  },
  {
   "cell_type": "code",
   "execution_count": null,
   "id": "3b7bdbd7-3d00-451c-9202-d18e9965ce91",
   "metadata": {},
   "outputs": [],
   "source": [
    "npop = 2\n",
    "cols = [\"blue\", \"red\"]\n",
    "f = [0.05 0.95; 0.95 0.05]\n",
    "p = size(f, 2) # number of SNPs\n",
    "n = fill(50, npop) # number of sample from each popluation\n",
    "pop = repeat(1:npop, inner=n)\n",
    "X = reduce(hcat,\n",
    "    [\n",
    "        reduce(vcat, [rand(Binomial(2, f[ii, jj]), n[jj]) for jj ∈ 1:npop])\n",
    "        for ii ∈ 1:p\n",
    "    ]\n",
    ")\n",
    "jitt_1 = rand(size(X, 1)) * 0.06 .- 0.03\n",
    "jitt_2 = rand(size(X, 1)) * 0.06 .- 0.03\n",
    "scatter(X[:, 1] .+ jitt_1, X[:, 2] .+ jitt_2, c=cols[pop],\n",
    "    xlabel=\"SNP1\", ylabel=\"SNP2\", label=nothing, size=(410, 400))"
   ]
  },
  {
   "cell_type": "code",
   "execution_count": null,
   "id": "ff42ff91-d01c-435b-ba60-bbc35e95823a",
   "metadata": {},
   "outputs": [],
   "source": [
    "X = scale_data(X) # always standardize each variant before PCA\n",
    "pca = fit(PCA, X', maxoutdim=1) # we are interested in only one output dimension\n",
    "prj = projection(pca)\n",
    "scatter(X[:, 1] .+ jitt_1, X[:, 2] .+ jitt_2, c=cols[pop],\n",
    "    xlabel=\"SNP1\", ylabel=\"SNP2\", label=nothing, size=(410, 400))\n",
    "Plots.abline!(prj[2, 1]/prj[1, 1], 0, label=nothing, c=\"black\")"
   ]
  },
  {
   "cell_type": "code",
   "execution_count": null,
   "id": "cafa0fa3-4e5a-435f-9f5f-e547c5834551",
   "metadata": {},
   "outputs": [],
   "source": [
    "scatter(\n",
    "    vec(MultivariateStats.transform(pca, X')), rand(100),\n",
    "    c=cols[pop], label=nothing, yaxis=nothing, xlabel=\"PCA1\"\n",
    ")"
   ]
  },
  {
   "cell_type": "markdown",
   "id": "0a6da841-2de9-4b03-a2be-2af576876e23",
   "metadata": {},
   "source": [
    "##### Example 5.3"
   ]
  },
  {
   "cell_type": "code",
   "execution_count": null,
   "id": "b281d6fe-66b8-4fe4-bad6-1f19e160cb31",
   "metadata": {},
   "outputs": [],
   "source": [
    "n = 100 # per population\n",
    "p = 3000 # SNPs\n",
    "fst_12 = 0.003\n",
    "fst_12_3 = 0.05\n",
    "f = rand(p) * 0.40 .+ 0.10 # common SNPs in background\n",
    "f_3 = rand.(Beta.((1 - fst_12_3) / fst_12_3 * f, (1 - fst_12_3) / fst_12_3 * (1 .- f)))\n",
    "f_12 = rand.(Beta.((1 - fst_12_3) / fst_12_3  * f, (1 - fst_12_3) / fst_12_3 .* (1 .- f))) # P1 and P2's shared ancestor\n",
    "f_1 = rand.(Beta.((1 - fst_12) / fst_12 .* f_12, (1 - fst_12) / fst_12 .* (1 .- f_12)))\n",
    "f_2 = rand.(Beta.((1 - fst_12) / fst_12 .* f_12, (1 - fst_12) / fst_12 .* (1 .- f_12)))\n",
    "\n",
    "# Let's check that f1 and f2 looks similar compared to f_1 and f_3 or f_2 and f_3\n",
    "fig = plot(layout=(1, 3), size=(900, 300))\n",
    "scatter!(fig, subplot=1, f_1, f_2, \n",
    "    marker=:cross, markercolor=:black,\n",
    "    xlim=(0, 1), ylim=(0, 1),\n",
    "    label=nothing, title=@sprintf(\"Fst = %.3f\", fst_12)\n",
    ")\n",
    "scatter!(fig, subplot=2, f_1, f_3,\n",
    "    marker=:cross, markercolor=:black,\n",
    "    xlim=(0, 1), ylim=(0, 1),\n",
    "    label=nothing, title=@sprintf(\"Fst > %.3f\", fst_12_3)\n",
    ")\n",
    "scatter!(fig, subplot=3, f_2, f_3,\n",
    "    marker=:cross, markercolor=:black,\n",
    "    xlim=(0, 1), ylim=(0, 1),\n",
    "    label=nothing, title=@sprintf(\"Fst > %.3f\", fst_12_3)\n",
    ")"
   ]
  },
  {
   "cell_type": "code",
   "execution_count": null,
   "id": "73a4115d-46da-4f8b-a3fb-feed112976be",
   "metadata": {},
   "outputs": [],
   "source": [
    "x = vcat(\n",
    "    reduce(hcat, rand.(Binomial.(2, f_1), n)),\n",
    "    reduce(hcat, rand.(Binomial.(2, f_2), n)),\n",
    "    reduce(hcat, rand.(Binomial.(2, f_3), n))\n",
    ")\n",
    "x = scale_data(x)\n",
    "pca = fit(PCA, x', maxoutdim=2)\n",
    "cols = repeat([\"cyan\", \"red\", \"black\"], inner=n) # color for each individual according to population\n",
    "proj = MultivariateStats.transform(pca, x')\n",
    "scatter(proj[1, :], proj[2, :], c=cols, xlabel=\"PCA1\", ylabel=\"PCA2\", label=nothing)"
   ]
  },
  {
   "cell_type": "markdown",
   "id": "dd2bda95-19e0-408c-83c6-514c09cb8e82",
   "metadata": {},
   "source": [
    "##### Example 5.4"
   ]
  },
  {
   "cell_type": "code",
   "execution_count": null,
   "id": "860e835c-cead-442b-acbe-8e79d0eacb5c",
   "metadata": {},
   "outputs": [],
   "source": [
    "data_url = \"https://www.mv.helsinki.fi/home/mjxpirin/GWAS_course/material/afreq_1000G_phase1_chr15-22.txt\"\n",
    "af = CSV.File(HTTP.get(data_url).body) |> DataFrame\n",
    "size(af)"
   ]
  },
  {
   "cell_type": "code",
   "execution_count": null,
   "id": "761b922c-ee8a-4966-b1ad-8e849f1645c6",
   "metadata": {},
   "outputs": [],
   "source": [
    "ENV[\"COLUMNS\"]=200 # To display all columns in data\n",
    "af[1, :]"
   ]
  },
  {
   "cell_type": "code",
   "execution_count": null,
   "id": "16888948-3cbe-411f-93e3-9391b80476cd",
   "metadata": {},
   "outputs": [],
   "source": [
    "p = size(af, 2) # number of SNPs\n",
    "n = 50 # samples per population\n",
    "pop_labs = [\"GBR\", \"TSI\", \"CEU\", \"FIN\"]\n",
    "pop = repeat(1:length(pop_labs), inner=n)\n",
    "\n",
    "x = reduce(\n",
    "    vcat, [\n",
    "        reduce(hcat, rand.(Binomial.(2, af[!, _pop_lab]), n)) \n",
    "        for _pop_lab ∈ pop_labs\n",
    "    ]\n",
    ")\n",
    "x = x[:, vec(mapslices(var, x, dims=1) .> 0)]; # remove possible monomorphic variants (SNP sites which have only single value)\n",
    "x = scale_data(x)\n",
    "\n",
    "pca = fit(PCA, x', maxoutdim=3)\n",
    "prj = MultivariateStats.transform(pca, x')\n",
    "scatter(prj[1, :], prj[2, :], c=pop, xlabel=\"PCA1\", ylabel=\"PCA2\", label=nothing,\n",
    "        title=\"Simulation from 1000 Genomes Phase 1\")"
   ]
  },
  {
   "cell_type": "code",
   "execution_count": null,
   "id": "3cc47eb3-f449-4017-b701-d26a62e3589d",
   "metadata": {},
   "outputs": [],
   "source": [
    "scatter(prj[1, :], prj[3, :], c=pop, \n",
    "    xlabel=\"PCA1\", ylabel=\"PCA3\", label=nothing,\n",
    "    title=\"Simulation from 1000 Genomes Phase 1\"\n",
    ")"
   ]
  },
  {
   "cell_type": "markdown",
   "id": "71104ded-2b6c-42ff-a9ed-0bc6310ee872",
   "metadata": {},
   "source": [
    "##### Example 5.5"
   ]
  },
  {
   "cell_type": "code",
   "execution_count": null,
   "id": "ccc78149-2c9b-41bf-a540-11a4292c033d",
   "metadata": {},
   "outputs": [],
   "source": [
    "p = 10000 # SNPs\n",
    "fst_12 = 0.01\n",
    "cols = [\"black\", \"limegreen\"]\n",
    "f = rand(p) * 0.30 .+ 0.20 # common SNPs in background population\n",
    "f_1 = rand.(Beta.((1 - fst_12) / fst_12 * f, (1 - fst_12) / fst_12 * (1 .- f)))\n",
    "f_2 = rand.(Beta.((1 - fst_12) / fst_12 * f, (1 - fst_12) / fst_12 * (1 .- f)))\n",
    "\n",
    "X = vcat(\n",
    "    offspring_geno(1, p, fs=f_1, n_shared_parents=2), # full sibs from 1\n",
    "    offspring_geno(4, p, fs=f_1, n_shared_parents=0), # unrel from 1\n",
    "    offspring_geno(5, p, fs=f_2, n_shared_parents=0), # unrel from 2\n",
    ")\n",
    "pop = repeat(1:2, inner=2*5)\n",
    "\n",
    "X = X[:, vec(mapslices(var, X, dims=1) .> 0)]\n",
    "X = scale_data(X)\n",
    "pca = fit(PCA, X', maxoutdim=2)\n",
    "prj = MultivariateStats.transform(pca, X')\n",
    "scatter(prj[1, :], prj[2, :], c=cols[pop], \n",
    "    xlabel=\"PCA1\", ylabel=\"PCA2\", label=nothing\n",
    ")"
   ]
  },
  {
   "cell_type": "code",
   "execution_count": null,
   "id": "0c1f2eb4-cdc9-423c-a9f9-2341fe9d4e69",
   "metadata": {},
   "outputs": [],
   "source": [
    "X_unrel = X[2:end, :]\n",
    "pca = fit(PCA, X_unrel', maxoutdim=2)\n",
    "prj = MultivariateStats.transform(pca, X_unrel')\n",
    "scatter(prj[1, :], prj[2, :], c=cols[pop[2:end]],\n",
    "    xlabel=\"PCA1\", ylabel=\"PCA2\", label=nothing,\n",
    "    title=\"Unrelated PCA\"\n",
    ")\n",
    "prj1 = MultivariateStats.transform(pca, X[1,:])\n",
    "scatter!(prj1[1, :], prj[2, :], c=\"violet\", label=nothing)"
   ]
  },
  {
   "cell_type": "code",
   "execution_count": null,
   "id": "b9c36eb1-066d-4060-bcea-ed9a7e774fce",
   "metadata": {},
   "outputs": [],
   "source": []
  }
 ],
 "metadata": {
  "kernelspec": {
   "display_name": "Julia 1.6.1",
   "language": "julia",
   "name": "julia-1.6"
  },
  "language_info": {
   "file_extension": ".jl",
   "mimetype": "application/julia",
   "name": "julia",
   "version": "1.6.1"
  }
 },
 "nbformat": 4,
 "nbformat_minor": 5
}
