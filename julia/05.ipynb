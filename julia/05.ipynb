{
 "cells": [
  {
   "cell_type": "markdown",
   "id": "102f7fd8-3b61-424b-a05c-d3e4cedbd2d2",
   "metadata": {},
   "source": [
    "# Relatedness and Population Structure"
   ]
  },
  {
   "cell_type": "code",
   "execution_count": 1,
   "id": "863f06f3-668d-4944-9182-025351064675",
   "metadata": {},
   "outputs": [
    {
     "data": {
      "text/plain": [
       "Plots.GRBackend()"
      ]
     },
     "execution_count": 1,
     "metadata": {},
     "output_type": "execute_result"
    }
   ],
   "source": [
    "using Distributions\n",
    "using DataFrames\n",
    "using Plots, Measures, StatsPlots\n",
    "using CSV, HTTP\n",
    "using Printf\n",
    "\n",
    "# Default plot settings\n",
    "gr(html_output_format=:png) # Avoid SVG and force PNG format for plots"
   ]
  },
  {
   "cell_type": "markdown",
   "id": "ef97d01a-e1da-44bb-87b4-88b0863b65e3",
   "metadata": {},
   "source": [
    "### Utility functions\n",
    "Some of these may have an efficient implementation in other packages, but for keeping\n",
    "things simple and complete, a crude implementation is given here."
   ]
  },
  {
   "cell_type": "code",
   "execution_count": 2,
   "id": "1a447c18-0186-4715-a446-9fdd372c5335",
   "metadata": {},
   "outputs": [
    {
     "data": {
      "text/plain": [
       "scale_data (generic function with 1 method)"
      ]
     },
     "execution_count": 2,
     "metadata": {},
     "output_type": "execute_result"
    }
   ],
   "source": [
    "# scale() function of R\n",
    "scale_data(d::AbstractArray) = (d .- mean(d, dims=1)) ./ std(d, dims=1)"
   ]
  },
  {
   "cell_type": "markdown",
   "id": "571e7a98-7b71-4f9f-95a1-c2bb0e8fa727",
   "metadata": {},
   "source": [
    "## 5.1 Genetic Relatedness"
   ]
  },
  {
   "cell_type": "markdown",
   "id": "5824cdf6-3fa3-48c2-89a2-a87bad4a4fb5",
   "metadata": {},
   "source": [
    "### 5.1.2 Estimating relatedness"
   ]
  },
  {
   "cell_type": "markdown",
   "id": "cd26495f-cdf8-4d21-82ec-2b73660356f0",
   "metadata": {},
   "source": [
    "##### Example 5.1"
   ]
  },
  {
   "cell_type": "code",
   "execution_count": 3,
   "id": "5894e7b6-2ff2-42e3-8044-fb3eef7a2818",
   "metadata": {},
   "outputs": [
    {
     "data": {
      "text/plain": [
       "offspring_geno"
      ]
     },
     "execution_count": 3,
     "metadata": {},
     "output_type": "execute_result"
    }
   ],
   "source": [
    "\"\"\"\n",
    "    offspring_geno(n_families, n_snps, fs, n_shared_parents=2)\n",
    "\n",
    "Generating pairs of offspring that share `n_shared_parents` number of parents\n",
    "\n",
    "# Arguments\n",
    "- `n_families::Integer`: number of families where each family produces two offspring (>0)\n",
    "- `n_snps::Integer`: number of independent SNPs used in simulation (>0)\n",
    "- `fs::Vector{Float64}`: vector of allele 1 frequencies for SNPs, length == n_snps, values > 0 & < 1\n",
    "- `n_shared_parents::Integer`: 0, 1, 2 shared parents for two offspring in each family\n",
    "\n",
    "# Returns\n",
    "- `X::Matrix{Integer}`: the genotpe of 2xn_families offspring, (2xn_families) x n_snps matrix with 0, 1, 2 entries\n",
    "\"\"\"\n",
    "function offspring_geno(n_families, n_snps; fs=nothing, n_shared_parents=2)\n",
    "    n_families > 0 || throw(DomainError(\"`n_families` must be > 0\"))\n",
    "    n_snps > 0 || throw(DomainError(\"`n_snps` must be > 0\"))\n",
    "    \n",
    "    if fs == nothing\n",
    "        fs = fill(0.50, n_snps)\n",
    "    else\n",
    "        length(fs) == n_snps || throw(DomainError(\"`fs` must have length = `n_snps`\"))\n",
    "        all(0.0 .< fs .< 1.0) || throw(DomainError(\"Values of `fs` must be in (0.00, 1.00)\"))\n",
    "    end\n",
    "    \n",
    "    n_shared_parents ∈ 0:2 || throw(DomainError(\"`n_shared_parents` must be in {0, 1, 2}\")) \n",
    "\n",
    "    if n_shared_parents == 2\n",
    "        parents = [ [1, 2], [ 1, 2]]\n",
    "    elseif n_shared_parents == 1\n",
    "        parents = [ [1, 2], [ 3, 2]]\n",
    "    else # must be 0\n",
    "        parents = [ [1, 2], [ 3, 4]]\n",
    "    end\n",
    "    n_parents = 4 - n_shared_parents\n",
    "    \n",
    "    X = fill(0, 2n_families, n_snps)\n",
    "    for ii ∈ 1:n_families\n",
    "        x_parents = reduce(hcat, rand.(Binomial.(1, fs), 2*n_parents))\n",
    "        for offs ∈ 1:2 # for two offsprings within family\n",
    "            # phase is the indicator of whether offs inherit each parents' 1st allele or not\n",
    "            phase = rand(2, n_snps) .> 0.50\n",
    "            for i_parent ∈ 1:2\n",
    "                for ph ∈ 0:1\n",
    "                    loci = phase[i_parent, :] .== ph # which loci from i_parent have phase ph?\n",
    "                    # add to current offs' genotype i_parent's allele from correct phase\n",
    "                    X[2*(ii-1) + offs, loci] = X[2*(ii-1) + offs, loci] +\n",
    "                        x_parents[2*parents[offs][i_parent] - ph, loci]\n",
    "                end\n",
    "            end\n",
    "        end\n",
    "    end\n",
    "    \n",
    "    return X\n",
    "end"
   ]
  },
  {
   "cell_type": "code",
   "execution_count": 4,
   "id": "f8507c2c-4128-44fa-89fe-61738d69ec46",
   "metadata": {},
   "outputs": [],
   "source": [
    "p = 10000 # SNPs\n",
    "fs = rand(p) .* 0.30 .+ 0.20 # MAF at each SNP is Uniform(0.2, 0.5)\n",
    "\n",
    "X = reduce(vcat, offspring_geno(5, p, fs=fs, n_shared_parents=n) for n ∈ 0:2)\n",
    "\n",
    "X = X[:, vec(mapslices(var, X, dims=1) .> 0)]; # remove possible monomorphic variants (SNP sites which have only single value)"
   ]
  },
  {
   "cell_type": "code",
   "execution_count": 5,
   "id": "41e68e6e-4fc6-4f97-8b46-2ec97c234c05",
   "metadata": {},
   "outputs": [
    {
     "data": {
      "image/png": "[encoded data removed]"
     },
     "execution_count": 5,
     "metadata": {},
     "output_type": "execute_result"
    }
   ],
   "source": [
    "n_cols = 50 # number of colors\n",
    "IBS_2 = ((X.==2) * (X.==2)' .+ (X.==1) * (X.==1)' .+ (X.==0) * (X.==0)') / p;\n",
    "IBS_1 = ((X.==1) * ((X.==0) .| (X.==2))' .+ (X.==1) * ((X.==0) .| (X.==2))') / p\n",
    "IBS = @. IBS_2 + 0.50 * IBS_1\n",
    "heatmap(IBS, size=(450, 400), title=\"Avg. IBS for 10000 SNPs\", \n",
    "        xaxis=nothing, yaxis=nothing)"
   ]
  },
  {
   "cell_type": "code",
   "execution_count": 6,
   "id": "78370e17-61c8-4f58-ac65-3adfd1835871",
   "metadata": {},
   "outputs": [
    {
     "data": {
      "image/png": "[encoded data removed]"
     },
     "execution_count": 6,
     "metadata": {},
     "output_type": "execute_result"
    }
   ],
   "source": [
    "X_scaled = scale_data(X) # standardize each SNP at columns of X\n",
    "GRM = (X_scaled * X_scaled') ./ p # correlation matrix of individuals based on standadized SNPs\n",
    "\n",
    "heatmap(GRM, size=(450, 400), title=\"Avg. IBS for 10000 SNPs\",\n",
    "        xaxis=nothing, yaxis=nothing)"
   ]
  },
  {
   "cell_type": "code",
   "execution_count": 7,
   "id": "eab885ce-d08d-4808-bf89-d34ce22673a4",
   "metadata": {},
   "outputs": [
    {
     "data": {
      "text/plain": [
       "10-element Vector{Int64}:\n",
       " 21\n",
       " 22\n",
       " 23\n",
       " 24\n",
       " 25\n",
       " 26\n",
       " 27\n",
       " 28\n",
       " 29\n",
       " 30"
      ]
     },
     "execution_count": 7,
     "metadata": {},
     "output_type": "execute_result"
    }
   ],
   "source": [
    "full_sibs = findall(grm -> 0.40 < grm < 0.60, GRM)\n",
    "full_sibs = filter(x -> x.I[1] < x.I[2], full_sibs)\n",
    "reduce(vcat, [[x.I[1], x.I[2]] for x ∈ full_sibs])"
   ]
  },
  {
   "cell_type": "code",
   "execution_count": 8,
   "id": "c218f5b7-c4fc-4e04-a6c1-e9f1dccfba8b",
   "metadata": {},
   "outputs": [
    {
     "data": {
      "text/plain": [
       "10-element Vector{Int64}:\n",
       " 11\n",
       " 12\n",
       " 13\n",
       " 14\n",
       " 15\n",
       " 16\n",
       " 17\n",
       " 18\n",
       " 19\n",
       " 20"
      ]
     },
     "execution_count": 8,
     "metadata": {},
     "output_type": "execute_result"
    }
   ],
   "source": [
    "half_sibs = findall(grm -> 0.15 < grm < 0.35, GRM)\n",
    "half_sibs = filter(x -> x.I[1] < x.I[2], half_sibs)\n",
    "reduce(vcat, [[x.I[1], x.I[2]] for x ∈ half_sibs])"
   ]
  },
  {
   "cell_type": "markdown",
   "id": "7dd728dc-2296-4346-aa43-655283ad3c5d",
   "metadata": {},
   "source": [
    "##### KING"
   ]
  },
  {
   "cell_type": "code",
   "execution_count": 9,
   "id": "cffe12fd-b40f-4d99-bdaf-ffc93cb929ac",
   "metadata": {},
   "outputs": [
    {
     "data": {
      "image/png": "[encoded data removed]"
     },
     "execution_count": 9,
     "metadata": {},
     "output_type": "execute_result"
    }
   ],
   "source": [
    "denominator = repeat(sum(X.==1, dims=2)', size(X, 1), 1) .+ repeat(sum(X.==1, dims=2), 1, size(X, 1))\n",
    "king_r = 2 * ((X.==1) * (X.==1)' .- 2 * ((X.==0) * (X.==2)' + (X.==2) * (X.==0)')) ./ denominator\n",
    "\n",
    "heatmap(king_r, size=(450, 400), title=\"KING (r) for 10000 SNPs\",\n",
    "        xaxis=nothing, yaxis=nothing)"
   ]
  },
  {
   "cell_type": "code",
   "execution_count": null,
   "id": "2aa4fd1b-6b6c-4b61-abb7-3f135f777c65",
   "metadata": {},
   "outputs": [],
   "source": []
  }
 ],
 "metadata": {
  "kernelspec": {
   "display_name": "Julia 1.6.1",
   "language": "julia",
   "name": "julia-1.6"
  },
  "language_info": {
   "file_extension": ".jl",
   "mimetype": "application/julia",
   "name": "julia",
   "version": "1.6.1"
  }
 },
 "nbformat": 4,
 "nbformat_minor": 5
}
