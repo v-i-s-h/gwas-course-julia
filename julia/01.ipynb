{
 "cells": [
  {
   "cell_type": "markdown",
   "id": "weekly-jewelry",
   "metadata": {},
   "source": [
    "# 1. What is GWAS?"
   ]
  },
  {
   "cell_type": "code",
   "execution_count": null,
   "id": "established-command",
   "metadata": {},
   "outputs": [],
   "source": [
    "using DataFrames\n",
    "using CategoricalArrays # For CategoricalArray\n",
    "using GLM # For linear models\n",
    "using Distributions\n",
    "using HypothesisTests # For ChisqTest\n",
    "using Plots\n",
    "using StatsPlots # For grouped bar plot\n",
    "using Printf"
   ]
  },
  {
   "cell_type": "markdown",
   "id": "allied-trouble",
   "metadata": {},
   "source": [
    "## Genetic variation"
   ]
  },
  {
   "cell_type": "markdown",
   "id": "certified-narrow",
   "metadata": {},
   "source": [
    "### Genotypes and Hardy-Weinberg equilibrium"
   ]
  },
  {
   "cell_type": "markdown",
   "id": "designed-ranch",
   "metadata": {},
   "source": [
    "##### Example 1.1"
   ]
  },
  {
   "cell_type": "code",
   "execution_count": null,
   "id": "republican-sphere",
   "metadata": {},
   "outputs": [],
   "source": [
    "geno = [ 66, 29, 4]\n",
    "n = sum(geno) # number of individuals\n",
    "f = sum(geno .* [ 0, 1, 2]) / (2 * n) # (66*0 + 29*1 + 4*2) / (2 * (66+29+4))"
   ]
  },
  {
   "cell_type": "code",
   "execution_count": null,
   "id": "surgical-toolbox",
   "metadata": {},
   "outputs": [],
   "source": [
    "hwe_prop = [ (1-f)^2, 2*f*(1-f), f^2] # these would be the geno type freqa under HWE\n",
    "DataFrame(obs = geno/n, hwe = hwe_prop) # print the observed genotype freqs and the HWE"
   ]
  },
  {
   "cell_type": "code",
   "execution_count": null,
   "id": "printable-sitting",
   "metadata": {},
   "outputs": [],
   "source": [
    "# For testing HWE, we use chi-square test even though counts are quite small in the last row\n",
    "hwe_test = sum( (geno - n*hwe_prop).^2 ./ (n * hwe_prop)) # HWE test statistic\n",
    "hwe_p = ccdf(Chisq(1), hwe_test) # P-value from the test\n",
    "\n",
    "bar(0:2, geno, \n",
    "    xaxis=(\"genotype\", 0:2),\n",
    "    leg=false,\n",
    "    color=\"skyblue\",\n",
    "    title=@sprintf(\"rs429358 FIN in 1000G Phase3; HWE P = %.3f\", hwe_p)\n",
    ")"
   ]
  },
  {
   "cell_type": "markdown",
   "id": "enclosed-berkeley",
   "metadata": {},
   "source": [
    "##### Synthetic Data"
   ]
  },
  {
   "cell_type": "code",
   "execution_count": null,
   "id": "subjective-fever",
   "metadata": {},
   "outputs": [],
   "source": [
    "n = 1000\n",
    "\n",
    "sample_from_geno = wsample(0:2, geno, n, replace=true) # sample from genotype frequencies\n",
    "counts_from_geno = [count(x -> x==i, sample_from_geno) for i ∈ 0:2] # compute the vector of occurences\n",
    "\n",
    "sample_from_hwe = rand(Binomial(2, f), n) # sample n genotypes from Binomial(2, f)\n",
    "counts_from_hwe = [count(x -> x==i, sample_from_hwe) for i ∈ 0:2]\n",
    "\n",
    "DataFrame(geno = counts_from_geno/n, hwe = counts_from_hwe/n)"
   ]
  },
  {
   "cell_type": "code",
   "execution_count": null,
   "id": "pleased-halifax",
   "metadata": {},
   "outputs": [],
   "source": [
    "groupedbar(\n",
    "    [\"geno\", \"HWE\"], [reverse(counts_from_geno')/n; reverse(counts_from_hwe)'/n],\n",
    "    orientation=:h, bar_position=:stack, legend=false, xticks=0:0.2:1\n",
    ")"
   ]
  },
  {
   "cell_type": "code",
   "execution_count": null,
   "id": "immune-thursday",
   "metadata": {},
   "outputs": [],
   "source": [
    "df_count_int = DataFrame(\n",
    "    geno = counts_from_geno/n,\n",
    "    geno_interval = map(x -> quantile(Beta(x+0.5, n-x+0.5), [0.025, 0.975]), counts_from_geno),\n",
    "    hwe = counts_from_hwe/n,\n",
    "    hwe_interval = map(x -> quantile(Beta(x+0.5, n-x+0.5), [0.025, 0.975]), counts_from_hwe)\n",
    ")"
   ]
  },
  {
   "cell_type": "code",
   "execution_count": null,
   "id": "careful-chemical",
   "metadata": {},
   "outputs": [],
   "source": [
    "ChisqTest([counts_from_geno counts_from_hwe])"
   ]
  },
  {
   "cell_type": "markdown",
   "id": "enclosed-hierarchy",
   "metadata": {},
   "source": [
    "## 1.2 What is genome-wide association study?"
   ]
  },
  {
   "cell_type": "markdown",
   "id": "million-thailand",
   "metadata": {},
   "source": [
    "### 1.2.1 Quantitive traits"
   ]
  },
  {
   "cell_type": "code",
   "execution_count": null,
   "id": "julian-wyoming",
   "metadata": {},
   "outputs": [],
   "source": [
    "n = 10000\n",
    "f = 0.04\n",
    "μ = [0.02, -0.40, -2.00] # mean of each genotype\n",
    "σ = ones(size(μ)) # SD of each genoetype\n",
    "\n",
    "x = rand(Binomial(2, f), n)\n",
    "DataFrame([(genotype=i, freq=count(_x->_x==i, x)/n) for i ∈ 0:2])"
   ]
  },
  {
   "cell_type": "code",
   "execution_count": null,
   "id": "packed-reliance",
   "metadata": {},
   "outputs": [],
   "source": [
    "ldl_data = DataFrame(\n",
    "    \"x\" => x,\n",
    "    \"y\" => μ[x .+ 1] .+ randn(n) .* σ[x .+ 1] # sample LDL levels for genotype\n",
    ")\n",
    "boxplot(ldl_data.x, ldl_data.y, title=\"Simulated rs11591147 in Finns\", \n",
    "        ylabel=\"LDL\", xlabel=\"Copies of T\", \n",
    "        xticks=0:2,\n",
    "        color=\"limegreen\", legend=false)"
   ]
  },
  {
   "cell_type": "markdown",
   "id": "czech-harmony",
   "metadata": {},
   "source": [
    "##### Additive model"
   ]
  },
  {
   "cell_type": "code",
   "execution_count": null,
   "id": "sitting-liver",
   "metadata": {},
   "outputs": [],
   "source": [
    "lm_fit = lm(@formula(y ~ x), ldl_data)"
   ]
  },
  {
   "cell_type": "code",
   "execution_count": null,
   "id": "adapted-accessory",
   "metadata": {},
   "outputs": [],
   "source": [
    "# plot LDL data with some uniform jitter in X-axis\n",
    "scatter(ldl_data.x .+ 0.20 .* (0.50 .- rand(n)), ldl_data.y,\n",
    "    xlabel=\"genotype\", ylabel=\"LDL\", label=nothing,\n",
    "    marker=:+, markersize=3, color=\"gray\", xticks=0:2\n",
    ")\n",
    "\n",
    "# plot group means for each genotype\n",
    "scatter!(0:2, [mean(ldl_data[ldl_data.x .== i, :y]) for i ∈ 0:2],\n",
    "    markershape=:d, markersize=5, markercolor=\"red\", label=\"group means\"\n",
    ")\n",
    "\n",
    "# Plot ab line for the model; Plots.abline() expects coefficients in reverse\n",
    "# order than that provided by lm()\n",
    "Plots.abline!(reverse(coef(lm_fit))..., color=\"orange\", label=nothing)"
   ]
  },
  {
   "cell_type": "markdown",
   "id": "continental-viking",
   "metadata": {},
   "source": [
    "##### Full model"
   ]
  },
  {
   "cell_type": "code",
   "execution_count": null,
   "id": "polar-bedroom",
   "metadata": {},
   "outputs": [],
   "source": [
    "# ldl_full_data = ldl_data\n",
    "# ldl_full_data.z = ldl_data.x .== 2 # add one more column with indicator variable for type-2\n",
    "\n",
    "# lm_full = lm(@formula(y ~ x + z), ldl_full_data)\n",
    "\n",
    "lm_full = lm(\n",
    "    @formula(y ~ x + z),\n",
    "    DataFrame(\n",
    "        \"x\" => ldl_data.x,\n",
    "        \"y\" => ldl_data.y,\n",
    "        \"z\" => ldl_data.x .== 2\n",
    "    )\n",
    ")"
   ]
  },
  {
   "cell_type": "code",
   "execution_count": null,
   "id": "fancy-alcohol",
   "metadata": {},
   "outputs": [],
   "source": [
    "lm_full2 = lm(\n",
    "    @formula(y ~ x), \n",
    "    DataFrame(\n",
    "        \"x\" => CategoricalArray(ldl_data.x),\n",
    "        \"y\" => ldl_data.y\n",
    "    )\n",
    ")"
   ]
  },
  {
   "cell_type": "markdown",
   "id": "textile-elizabeth",
   "metadata": {},
   "source": [
    "##### Quantile Normalisation"
   ]
  },
  {
   "cell_type": "code",
   "execution_count": null,
   "id": "dimensional-candle",
   "metadata": {},
   "outputs": [],
   "source": [
    "# Generate a phenotype with male following 2 + Γ(shape=1.5, scale=1.5) and females\n",
    "# following 6 + Γ(shape=1.5, scale=1.5)\n",
    "n = 200 # males + females\n",
    "fem = repeat([0, 1], inner=n÷2)\n",
    "y = 2 .+ 4 .* fem + rand(Gamm)"
   ]
  },
  {
   "cell_type": "code",
   "execution_count": null,
   "id": "common-latest",
   "metadata": {},
   "outputs": [],
   "source": [
    "Distri"
   ]
  },
  {
   "cell_type": "code",
   "execution_count": null,
   "id": "upper-source",
   "metadata": {},
   "outputs": [],
   "source": [
    "n ÷ 2"
   ]
  },
  {
   "cell_type": "code",
   "execution_count": null,
   "id": "acoustic-grocery",
   "metadata": {},
   "outputs": [],
   "source": []
  }
 ],
 "metadata": {
  "kernelspec": {
   "display_name": "Julia 1.6.0",
   "language": "julia",
   "name": "julia-1.6"
  },
  "language_info": {
   "file_extension": ".jl",
   "mimetype": "application/julia",
   "name": "julia",
   "version": "1.6.0"
  }
 },
 "nbformat": 4,
 "nbformat_minor": 5
}
