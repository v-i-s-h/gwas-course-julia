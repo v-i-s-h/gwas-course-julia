{
 "cells": [
  {
   "cell_type": "markdown",
   "id": "secondary-discharge",
   "metadata": {},
   "source": [
    "# 1. What is GWAS?"
   ]
  },
  {
   "cell_type": "code",
   "execution_count": null,
   "id": "defensive-christopher",
   "metadata": {},
   "outputs": [],
   "source": [
    "using DataFrames\n",
    "using CategoricalArrays # For CategoricalArray\n",
    "using GLM # For linear models\n",
    "using Distributions\n",
    "using HypothesisTests # For ChisqTest\n",
    "using Plots\n",
    "using StatsPlots # For grouped bar plot\n",
    "using Printf"
   ]
  },
  {
   "cell_type": "markdown",
   "id": "saved-procurement",
   "metadata": {},
   "source": [
    "## Genetic variation"
   ]
  },
  {
   "cell_type": "markdown",
   "id": "exciting-tolerance",
   "metadata": {},
   "source": [
    "### Genotypes and Hardy-Weinberg equilibrium"
   ]
  },
  {
   "cell_type": "markdown",
   "id": "incoming-wisdom",
   "metadata": {},
   "source": [
    "##### Example 1.1"
   ]
  },
  {
   "cell_type": "code",
   "execution_count": null,
   "id": "interior-university",
   "metadata": {},
   "outputs": [],
   "source": [
    "geno = [ 66, 29, 4]\n",
    "n = sum(geno) # number of individuals\n",
    "f = sum(geno .* [ 0, 1, 2]) / (2 * n) # (66*0 + 29*1 + 4*2) / (2 * (66+29+4))"
   ]
  },
  {
   "cell_type": "code",
   "execution_count": null,
   "id": "configured-installation",
   "metadata": {},
   "outputs": [],
   "source": [
    "hwe_prop = [ (1-f)^2, 2*f*(1-f), f^2] # these would be the geno type freqa under HWE\n",
    "DataFrame(obs = geno/n, hwe = hwe_prop) # print the observed genotype freqs and the HWE"
   ]
  },
  {
   "cell_type": "code",
   "execution_count": null,
   "id": "wanted-underwear",
   "metadata": {},
   "outputs": [],
   "source": [
    "# For testing HWE, we use chi-square test even though counts are quite small in the last row\n",
    "hwe_test = sum( (geno - n*hwe_prop).^2 ./ (n * hwe_prop)) # HWE test statistic\n",
    "hwe_p = ccdf(Chisq(1), hwe_test) # P-value from the test\n",
    "\n",
    "bar(0:2, geno, \n",
    "    xaxis=(\"genotype\", 0:2),\n",
    "    leg=false,\n",
    "    color=\"skyblue\",\n",
    "    title=@sprintf(\"rs429358 FIN in 1000G Phase3; HWE P = %.3f\", hwe_p)\n",
    ")"
   ]
  },
  {
   "cell_type": "markdown",
   "id": "altered-startup",
   "metadata": {},
   "source": [
    "##### Synthetic Data"
   ]
  },
  {
   "cell_type": "code",
   "execution_count": null,
   "id": "urban-model",
   "metadata": {},
   "outputs": [],
   "source": [
    "n = 1000\n",
    "\n",
    "sample_from_geno = wsample(0:2, geno, n, replace=true) # sample from genotype frequencies\n",
    "counts_from_geno = [count(x -> x==i, sample_from_geno) for i ∈ 0:2] # compute the vector of occurences\n",
    "\n",
    "sample_from_hwe = rand(Binomial(2, f), n) # sample n genotypes from Binomial(2, f)\n",
    "counts_from_hwe = [count(x -> x==i, sample_from_hwe) for i ∈ 0:2]\n",
    "\n",
    "DataFrame(geno = counts_from_geno/n, hwe = counts_from_hwe/n)"
   ]
  },
  {
   "cell_type": "code",
   "execution_count": null,
   "id": "floppy-failure",
   "metadata": {},
   "outputs": [],
   "source": [
    "groupedbar(\n",
    "    [\"geno\", \"HWE\"], [reverse(counts_from_geno')/n; reverse(counts_from_hwe)'/n],\n",
    "    orientation=:h, bar_position=:stack, legend=false, xticks=0:0.2:1\n",
    ")"
   ]
  },
  {
   "cell_type": "code",
   "execution_count": null,
   "id": "looking-pasta",
   "metadata": {},
   "outputs": [],
   "source": [
    "df_count_int = DataFrame(\n",
    "    geno = counts_from_geno/n,\n",
    "    geno_interval = map(x -> quantile(Beta(x+0.5, n-x+0.5), [0.025, 0.975]), counts_from_geno),\n",
    "    hwe = counts_from_hwe/n,\n",
    "    hwe_interval = map(x -> quantile(Beta(x+0.5, n-x+0.5), [0.025, 0.975]), counts_from_hwe),\n",
    "    copycols=false # use copycols=false to avoid copying data\n",
    ")"
   ]
  },
  {
   "cell_type": "code",
   "execution_count": null,
   "id": "engaged-broad",
   "metadata": {},
   "outputs": [],
   "source": [
    "ChisqTest([counts_from_geno counts_from_hwe])"
   ]
  },
  {
   "cell_type": "markdown",
   "id": "mineral-island",
   "metadata": {},
   "source": [
    "## 1.2 What is genome-wide association study?"
   ]
  },
  {
   "cell_type": "markdown",
   "id": "infectious-asian",
   "metadata": {},
   "source": [
    "### 1.2.1 Quantitive traits"
   ]
  },
  {
   "cell_type": "code",
   "execution_count": null,
   "id": "caring-smoke",
   "metadata": {},
   "outputs": [],
   "source": [
    "n = 10000\n",
    "f = 0.04\n",
    "μ = [0.02, -0.40, -2.00] # mean of each genotype\n",
    "σ = ones(size(μ)) # SD of each genoetype\n",
    "\n",
    "x = rand(Binomial(2, f), n)\n",
    "DataFrame([(genotype=i, freq=count(_x->_x==i, x)/n) for i ∈ 0:2])"
   ]
  },
  {
   "cell_type": "code",
   "execution_count": null,
   "id": "tired-opinion",
   "metadata": {},
   "outputs": [],
   "source": [
    "ldl_data = DataFrame(\n",
    "    \"x\" => x,\n",
    "    \"y\" => μ[x .+ 1] .+ randn(n) .* σ[x .+ 1], # sample LDL levels for genotype,\n",
    "    copycols=false # use copycols=false to avoid copying data\n",
    ")\n",
    "boxplot(ldl_data.x, ldl_data.y, title=\"Simulated rs11591147 in Finns\", \n",
    "        ylabel=\"LDL\", xlabel=\"Copies of T\", \n",
    "        xticks=0:2,\n",
    "        color=\"limegreen\", legend=false)"
   ]
  },
  {
   "cell_type": "markdown",
   "id": "entire-relief",
   "metadata": {},
   "source": [
    "##### Additive model"
   ]
  },
  {
   "cell_type": "code",
   "execution_count": null,
   "id": "received-craft",
   "metadata": {},
   "outputs": [],
   "source": [
    "lm_fit = lm(@formula(y ~ x), ldl_data)"
   ]
  },
  {
   "cell_type": "code",
   "execution_count": null,
   "id": "chubby-postcard",
   "metadata": {},
   "outputs": [],
   "source": [
    "# plot LDL data with some uniform jitter in X-axis\n",
    "scatter(ldl_data.x .+ 0.20 .* (0.50 .- rand(n)), ldl_data.y,\n",
    "    xlabel=\"genotype\", ylabel=\"LDL\", label=nothing,\n",
    "    marker=:+, markersize=3, color=\"gray\", xticks=0:2\n",
    ")\n",
    "\n",
    "# plot group means for each genotype\n",
    "scatter!(0:2, [mean(ldl_data[ldl_data.x .== i, :y]) for i ∈ 0:2],\n",
    "    markershape=:d, markersize=5, markercolor=\"red\", label=\"group means\"\n",
    ")\n",
    "\n",
    "# Plot ab line for the model; Plots.abline() expects coefficients in reverse\n",
    "# order than that provided by lm()\n",
    "Plots.abline!(reverse(coef(lm_fit))..., color=\"orange\", label=nothing)"
   ]
  },
  {
   "cell_type": "markdown",
   "id": "danish-costs",
   "metadata": {},
   "source": [
    "##### Full model"
   ]
  },
  {
   "cell_type": "code",
   "execution_count": null,
   "id": "prompt-criterion",
   "metadata": {},
   "outputs": [],
   "source": [
    "# ldl_full_data = ldl_data\n",
    "# ldl_full_data.z = ldl_data.x .== 2 # add one more column with indicator variable for type-2\n",
    "\n",
    "# lm_full = lm(@formula(y ~ x + z), ldl_full_data)\n",
    "\n",
    "lm_full = lm(\n",
    "    @formula(y ~ x + z),\n",
    "    DataFrame(\n",
    "        \"x\" => ldl_data.x,\n",
    "        \"y\" => ldl_data.y,\n",
    "        \"z\" => ldl_data.x .== 2,\n",
    "        copycols=false # use copycols=false to avoid copying data\n",
    "    )\n",
    ")"
   ]
  },
  {
   "cell_type": "code",
   "execution_count": null,
   "id": "interracial-alcohol",
   "metadata": {},
   "outputs": [],
   "source": [
    "lm_full2 = lm(\n",
    "    @formula(y ~ x), \n",
    "    DataFrame(\n",
    "        \"x\" => CategoricalArray(ldl_data.x),\n",
    "        \"y\" => ldl_data.y,\n",
    "        copycols=false # use copycols=false to avoid copying data\n",
    "    )\n",
    ")"
   ]
  },
  {
   "cell_type": "markdown",
   "id": "middle-mexico",
   "metadata": {},
   "source": [
    "##### Quantile Normalisation"
   ]
  },
  {
   "cell_type": "code",
   "execution_count": null,
   "id": "surrounded-favorite",
   "metadata": {},
   "outputs": [],
   "source": [
    "# Generate a phenotype with male following 2 + Γ(shape=1.5, scale=1.5) and females\n",
    "# following 6 + Γ(shape=1.5, scale=1.5)\n",
    "n = 200 # males + females\n",
    "fem = repeat([0, 1], inner=n÷2)\n",
    "y = 2 .+ 4 .* fem .+ rand(Gamma(1.5, 1.5), n)\n",
    "\n",
    "histogram(y, bins=30, color=\"khaki\")"
   ]
  },
  {
   "cell_type": "code",
   "execution_count": null,
   "id": "treated-premiere",
   "metadata": {},
   "outputs": [],
   "source": [
    "# regress out sex and take residuals\n",
    "lm_fit = lm(@formula(y ~ fem), DataFrame(\"fem\"=>fem, \"y\"=>y, copycols=false))\n",
    "r = residuals(lm_fit)\n",
    "\n",
    "# find QN'ed trait values from qnorm = inverse of cumulative distribution of Normal\n",
    "# Implements `rank` function. An alternative is available in StatsBase.jl\n",
    "function rank(d::AbstractArray; sortkwargs...)\n",
    "    ord = sortperm(vec(d); sortkwargs...)\n",
    "    rnk = similar(ord, Int)\n",
    "    @inbounds for i in 1:size(ord, 1)\n",
    "        rnk[ord[i]] = i\n",
    "    end\n",
    "    return rnk\n",
    "end\n",
    "inv_normalise(x) = quantile(Normal(), (rank(r) .- 0.50) ./ size(vec(x), 1))\n",
    "\n",
    "q = inv_normalise(r)\n",
    "\n",
    "# define function to scale data\n",
    "scale_data(d::AbstractArray) = (d .- mean(d, dims=1)) ./ std(d, dims=1)\n",
    "\n",
    "plot(\n",
    "    density(scale_data(y), label=\"scaled traits\"),\n",
    "    density!(scale_data(q), label=\"quantile normalised traits\", legend=:bottomright),\n",
    "    \n",
    "    scatter(y[fem.==0], q[fem.==0], color=\"cyan\", label=\"male\"),\n",
    "    scatter!(y[fem.==1], q[fem.==1], color=\"gold\", label=\"female\", legend=:bottomright)\n",
    ")"
   ]
  },
  {
   "cell_type": "code",
   "execution_count": null,
   "id": "played-tunisia",
   "metadata": {},
   "outputs": [],
   "source": []
  }
 ],
 "metadata": {
  "kernelspec": {
   "display_name": "Julia 1.6.0",
   "language": "julia",
   "name": "julia-1.6"
  },
  "language_info": {
   "file_extension": ".jl",
   "mimetype": "application/julia",
   "name": "julia",
   "version": "1.6.0"
  }
 },
 "nbformat": 4,
 "nbformat_minor": 5
}
