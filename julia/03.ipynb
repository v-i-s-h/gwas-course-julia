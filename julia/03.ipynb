{
 "cells": [
  {
   "cell_type": "markdown",
   "id": "liquid-snowboard",
   "metadata": {},
   "source": [
    "# Statistical Power"
   ]
  },
  {
   "cell_type": "code",
   "execution_count": null,
   "id": "printable-problem",
   "metadata": {},
   "outputs": [],
   "source": [
    "using Distributions\n",
    "using DataFrames\n",
    "using GLM\n",
    "using Plots, Measures, StatsPlots\n",
    "using Printf"
   ]
  },
  {
   "cell_type": "markdown",
   "id": "overhead-closure",
   "metadata": {},
   "source": [
    "**Utility functions**\n",
    "Some of these may have an efficient implementation in other packages, but for keeping\n",
    "things simple and complete, a crude implementation is given here."
   ]
  },
  {
   "cell_type": "code",
   "execution_count": null,
   "id": "duplicate-steal",
   "metadata": {},
   "outputs": [],
   "source": [
    "# scale() function of R\n",
    "scale_data(d::AbstractArray) = (d .- mean(d, dims=1)) ./ std(d, dims=1)"
   ]
  },
  {
   "cell_type": "markdown",
   "id": "distant-matthew",
   "metadata": {},
   "source": [
    "## 3.1 Test statistic under the alternative"
   ]
  },
  {
   "cell_type": "markdown",
   "id": "guided-volleyball",
   "metadata": {},
   "source": [
    "##### Example 3.1"
   ]
  },
  {
   "cell_type": "code",
   "execution_count": null,
   "id": "complimentary-stack",
   "metadata": {},
   "outputs": [],
   "source": [
    "n = 500 # individuals\n",
    "p = 5000 # SNPs for both null and alternative\n",
    "f = 0.50 # MAF\n",
    "b_alt = 0.20 # effect size under the alternative hypothesis\n",
    "x = rand(Binomial(2, f), n) # genotypes at 1 SNP for n individuals\n",
    "y = scale_data(randn(n)) # random phenotype normalized to have SD = 1\n",
    "se = stderror(lm(@formula(y ~ x), DataFrame(\"x\"=>x, \"y\"=>y, copycols=false)))[2] # pick se\n",
    "b_hat_null = se * randn(p) # estimate under null\n",
    "b_hat_alt = b_alt .+ se * randn(p) # estiamtes under alternatives\n",
    "\n",
    "fig = plot(layout=(1, 2), size=(800, 300), margin=7mm)\n",
    "\n",
    "plot!(fig, subplot=1, xaxis=(\"z\", (-3, 6)), yaxis=(\"density\", (0, 0.5))) # Empty panel for plotting\n",
    "# draw observed densities of z-scores\n",
    "density!(b_hat_null/se, lc=:black, lw=2, label=nothing) # Wald stat for null variants\n",
    "density!(b_hat_alt/se, lc=:red, lw=2, label=nothing) # Wald stat for alternate variants\n",
    "# Let's add theoretical densities\n",
    "plot!(Normal(0, 1), lc=:blue, ls=:dash, label=nothing) # for null\n",
    "plot!(Normal(b_alt/se, 1), lc=:orange, ls=:dash, label=nothing) # for alternative\n",
    "\n",
    "plot!(fig, subplot=2, xaxis=(\"z²\", (-2, 35)), yaxis=(\"density\", (0, 1))) # Empty panel for plotting\n",
    "density!(subplot=2, (b_hat_null/se).^2, lc=:black, lw=2, label=\"NULL Obs'd\")\n",
    "density!(subplot=2, (b_hat_alt/se).^2, lc=:red, lw=2, label=\"ALT Obs'd\")\n",
    "plot!(subplot=2, Chisq(1), lc=:blue, ls=:dash, label=\"NULL Theor\")\n",
    "plot!(subplot=2, NoncentralChisq(1, (b_alt/se)^2), lc=:orange, ls=:dash, label=\"ALT Theor\") # NCP = (beta/se)^2\n",
    "# Let's add significance threholds corresponding to 0.05 and 5e-8\n",
    "# By definition, the thresholds are always computed under the null\n",
    "q_thresh = quantile(Chisq(1), 1 .- [0.05, 5e-8]) # For upper quantile, substract from 1.0\n",
    "vline!(subplot=2, q_thresh', ls=:dot,  lc=[:darkgreen :springgreen], label=nothing)\n",
    "annotate!(subplot=2,\n",
    "    (q_thresh[1] + 4, 0.40, text(\"P < 0.05\", :right, 8)),\n",
    "    (q_thresh[2] + 4, 0.40, text(\"P < 5e-8\", :right, 8))\n",
    ")"
   ]
  },
  {
   "cell_type": "code",
   "execution_count": null,
   "id": "expensive-theta",
   "metadata": {},
   "outputs": [],
   "source": [
    "q_thresh = quantile(Chisq(1), 1.0 .- [0.05, 5e-8]) # repeating the threholds in chi-sq\n",
    "ccdf(NoncentralChisq(1, (b_alt/se)^2), q_thresh) # Correspond to the right tail probabilties"
   ]
  },
  {
   "cell_type": "code",
   "execution_count": null,
   "id": "prompt-shopping",
   "metadata": {},
   "outputs": [],
   "source": []
  }
 ],
 "metadata": {
  "kernelspec": {
   "display_name": "Julia 1.6.0",
   "language": "julia",
   "name": "julia-1.6"
  },
  "language_info": {
   "file_extension": ".jl",
   "mimetype": "application/julia",
   "name": "julia",
   "version": "1.6.0"
  }
 },
 "nbformat": 4,
 "nbformat_minor": 5
}
