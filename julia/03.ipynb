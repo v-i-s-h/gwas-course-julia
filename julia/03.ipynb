{
 "cells": [
  {
   "cell_type": "markdown",
   "id": "accepted-facility",
   "metadata": {},
   "source": [
    "# Statistical Power"
   ]
  },
  {
   "cell_type": "code",
   "execution_count": null,
   "id": "bright-employee",
   "metadata": {},
   "outputs": [],
   "source": [
    "using Distributions\n",
    "using DataFrames\n",
    "using GLM\n",
    "using Plots, Measures, StatsPlots\n",
    "using Printf"
   ]
  },
  {
   "cell_type": "markdown",
   "id": "patent-remainder",
   "metadata": {},
   "source": [
    "**Utility functions**\n",
    "Some of these may have an efficient implementation in other packages, but for keeping\n",
    "things simple and complete, a crude implementation is given here."
   ]
  },
  {
   "cell_type": "code",
   "execution_count": null,
   "id": "turned-light",
   "metadata": {},
   "outputs": [],
   "source": [
    "# scale() function of R\n",
    "scale_data(d::AbstractArray) = (d .- mean(d, dims=1)) ./ std(d, dims=1)"
   ]
  },
  {
   "cell_type": "markdown",
   "id": "romantic-monroe",
   "metadata": {},
   "source": [
    "## 3.1 Test statistic under the alternative"
   ]
  },
  {
   "cell_type": "markdown",
   "id": "adopted-outreach",
   "metadata": {},
   "source": [
    "##### Example 3.1"
   ]
  },
  {
   "cell_type": "code",
   "execution_count": null,
   "id": "worthy-daisy",
   "metadata": {},
   "outputs": [],
   "source": [
    "n = 500 # individuals\n",
    "p = 5000 # SNPs for both null and alternative\n",
    "f = 0.50 # MAF\n",
    "b_alt = 0.20 # effect size under the alternative hypothesis\n",
    "x = rand(Binomial(2, f), n) # genotypes at 1 SNP for n individuals\n",
    "y = scale_data(randn(n)) # random phenotype normalized to have SD = 1\n",
    "se = stderror(lm(@formula(y ~ x), DataFrame(\"x\"=>x, \"y\"=>y, copycols=false)))[2] # pick se\n",
    "b_hat_null = se * randn(p) # estimate under null\n",
    "b_hat_alt = b_alt .+ se * randn(p) # estiamtes under alternatives\n",
    "\n",
    "fig = plot(layout=(1, 2), size=(800, 300), margin=7mm)\n",
    "\n",
    "plot!(fig, subplot=1, xaxis=(\"z\", (-3, 6)), yaxis=(\"density\", (0, 0.5))) # Empty panel for plotting\n",
    "# draw observed densities of z-scores\n",
    "density!(b_hat_null/se, lc=:black, lw=2, label=nothing) # Wald stat for null variants\n",
    "density!(b_hat_alt/se, lc=:red, lw=2, label=nothing) # Wald stat for alternate variants\n",
    "# Let's add theoretical densities\n",
    "plot!(Normal(0, 1), lc=:blue, ls=:dash, label=nothing) # for null\n",
    "plot!(Normal(b_alt/se, 1), lc=:orange, ls=:dash, label=nothing) # for alternative\n",
    "\n",
    "plot!(fig, subplot=2, xaxis=(\"z²\", (-2, 35)), yaxis=(\"density\", (0, 1))) # Empty panel for plotting\n",
    "density!(subplot=2, (b_hat_null/se).^2, lc=:black, lw=2, label=\"NULL Obs'd\")\n",
    "density!(subplot=2, (b_hat_alt/se).^2, lc=:red, lw=2, label=\"ALT Obs'd\")\n",
    "plot!(subplot=2, Chisq(1), lc=:blue, ls=:dash, label=\"NULL Theor\")\n",
    "plot!(subplot=2, NoncentralChisq(1, (b_alt/se)^2), lc=:orange, ls=:dash, label=\"ALT Theor\") # NCP = (beta/se)^2\n",
    "# Let's add significance threholds corresponding to 0.05 and 5e-8\n",
    "# By definition, the thresholds are always computed under the null\n",
    "q_thresh = quantile(Chisq(1), 1 .- [0.05, 5e-8]) # For upper quantile, substract from 1.0\n",
    "vline!(subplot=2, q_thresh', ls=:dot,  lc=[:darkgreen :springgreen], label=nothing)\n",
    "annotate!(subplot=2,\n",
    "    (q_thresh[1] + 4, 0.40, text(\"P < 0.05\", :right, 8)),\n",
    "    (q_thresh[2] + 4, 0.40, text(\"P < 5e-8\", :right, 8))\n",
    ")"
   ]
  },
  {
   "cell_type": "code",
   "execution_count": null,
   "id": "sustainable-triangle",
   "metadata": {},
   "outputs": [],
   "source": [
    "q_thresh = quantile(Chisq(1), 1.0 .- [0.05, 5e-8]) # repeating the threholds in chi-sq\n",
    "ccdf(NoncentralChisq(1, (b_alt/se)^2), q_thresh) # Correspond to the right tail probabilties"
   ]
  },
  {
   "cell_type": "markdown",
   "id": "established-basic",
   "metadata": {},
   "source": [
    "## 3.2 Ingedients of power"
   ]
  },
  {
   "cell_type": "markdown",
   "id": "cultural-account",
   "metadata": {},
   "source": [
    "##### Example 3.2"
   ]
  },
  {
   "cell_type": "code",
   "execution_count": null,
   "id": "differential-shelter",
   "metadata": {},
   "outputs": [],
   "source": [
    "f = 0.50\n",
    "b_alt = 0.20\n",
    "σ = √(1 - 2*f*(1-f)*b_alt^2) # error sd after SNP effect is accounted for\n",
    "ns = range(500, 4000, step=10)\n",
    "# candidate values for n\n",
    "ses = σ ./ .√(ns * 2 * f * (1-f)) # SEs corresponding to each candidate n\n",
    "q_thresh = quantile(Chisq(1), 1-5e-8) # chi-sqr threhold corresp alpha=5e-8\n",
    "pwr = [ccdf(NoncentralChisq(1, (b_alt/s)^2), q_thresh) for s ∈ ses] # power at alpha=5e-8 for VECTOR of SE values\n",
    "plot(ns, pwr, lc=:darkgreen, xlabel=\"n\", ylabel=\"power\", lw=1.5, label=nothing,\n",
    "    title=@sprintf(\"QT sd=1, MAF = %.1f; β = %.1f\", f, b_alt)\n",
    ")\n",
    "hline!([0.90], ls=:dash, label=nothing)"
   ]
  },
  {
   "cell_type": "code",
   "execution_count": null,
   "id": "rising-governor",
   "metadata": {},
   "outputs": [],
   "source": [
    "ns[findfirst(>=(0.90), pwr)]"
   ]
  },
  {
   "cell_type": "code",
   "execution_count": null,
   "id": "becoming-tennessee",
   "metadata": {},
   "outputs": [],
   "source": [
    "2 * f * (1-f) * b_alt^2"
   ]
  },
  {
   "cell_type": "markdown",
   "id": "opening-response",
   "metadata": {},
   "source": [
    "##### Example 3.3"
   ]
  },
  {
   "cell_type": "code",
   "execution_count": null,
   "id": "bacterial-supervisor",
   "metadata": {},
   "outputs": [],
   "source": [
    "f = 0.5\n",
    "y_explained = 0.005\n",
    "b_alt = √(y_explained / (2*f*(1-f))) # this is beta that explains 0.5%\n",
    "σ = √(1 - y_explained) # error sd after SNP effect is accounted for\n",
    "ns = range(1000, 12000, step=10) # candidate n\n",
    "ses = σ ./ .√(ns*2*f*(1-f)) # SE corresponding to each n\n",
    "q_thresh = quantile(Chisq(1), 1-5e-8) # threhold corresponding to alpha = 5e-8\n",
    "pwr = [ccdf(NoncentralChisq(1, (b_alt/s)^2), q_thresh) for s ∈ ses]\n",
    "plot(ns, pwr, lc=:darkgreen, xlabel=\"n\", ylabel=\"power\", lw=1.5, label=nothing,\n",
    "    title=@sprintf(\"QT sd=1; MAF = %.1f; β = %.1f\", f, b_alt)\n",
    ")\n",
    "hline!([0.90], ls=:dash, label=nothing)"
   ]
  },
  {
   "cell_type": "code",
   "execution_count": null,
   "id": "accomplished-cardiff",
   "metadata": {},
   "outputs": [],
   "source": [
    "ns[findfirst(>=(0.90), pwr)]"
   ]
  },
  {
   "cell_type": "markdown",
   "id": "biological-employment",
   "metadata": {},
   "source": [
    "##### Example 3.6"
   ]
  },
  {
   "cell_type": "code",
   "execution_count": null,
   "id": "least-literacy",
   "metadata": {},
   "outputs": [],
   "source": [
    "n = [500000, 60000]\n",
    "ϕ = [15000, 30000] ./ n\n",
    "DataFrame(\"n\" => n, \"ϕ\" => ϕ, \"eff_n\" => @. n * ϕ * (1 - ϕ))"
   ]
  },
  {
   "cell_type": "markdown",
   "id": "restricted-destruction",
   "metadata": {},
   "source": [
    "##### Example 3.7"
   ]
  },
  {
   "cell_type": "code",
   "execution_count": null,
   "id": "impressive-substitute",
   "metadata": {},
   "outputs": [],
   "source": [
    "b = log(1.1) # b is log-odds, approximately GRR for a low prevalance disease\n",
    "n = 20000\n",
    "f = 0.4\n",
    "ϕ = 0.5\n",
    "ccdf(NoncentralChisq(1, 2*f*(1-f)*n*ϕ*(1-ϕ)*b^2), quantile(Chisq(1), 1-5e-8))"
   ]
  },
  {
   "cell_type": "code",
   "execution_count": null,
   "id": "ethical-party",
   "metadata": {},
   "outputs": [],
   "source": []
  }
 ],
 "metadata": {
  "kernelspec": {
   "display_name": "Julia 1.6.0",
   "language": "julia",
   "name": "julia-1.6"
  },
  "language_info": {
   "file_extension": ".jl",
   "mimetype": "application/julia",
   "name": "julia",
   "version": "1.6.0"
  }
 },
 "nbformat": 4,
 "nbformat_minor": 5
}
