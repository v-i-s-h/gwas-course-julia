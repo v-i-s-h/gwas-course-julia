{
 "cells": [
  {
   "cell_type": "markdown",
   "id": "79381851-2239-408d-a975-1d79d6d87d04",
   "metadata": {},
   "source": [
    "# Bayesian Inference"
   ]
  },
  {
   "cell_type": "code",
   "execution_count": 1,
   "id": "090aff09-2389-4bf1-a3f5-ceb75ceb946b",
   "metadata": {},
   "outputs": [],
   "source": [
    "using Distributions\n",
    "using DataFrames\n",
    "using Plots, Measures, StatsPlots\n",
    "using Printf\n",
    "\n",
    "# Default plot settings\n",
    "gr(html_output_format=:png); # Avoid SVG and forcing PNG format for plots"
   ]
  },
  {
   "cell_type": "markdown",
   "id": "b96c886a-af72-4964-8e60-5a8c41717278",
   "metadata": {},
   "source": [
    "## 4.1 Bayes Rule"
   ]
  },
  {
   "cell_type": "markdown",
   "id": "36e2f45d-bafc-4323-8ca9-f627a3f66f28",
   "metadata": {},
   "source": [
    "##### Example 4.2"
   ]
  },
  {
   "cell_type": "code",
   "execution_count": 2,
   "id": "167621df-820f-43a0-b9ea-b3bef7c110ad",
   "metadata": {},
   "outputs": [
    {
     "data": {
      "text/html": [
       "<table class=\"data-frame\"><thead><tr><th></th><th>cases</th><th>controls</th></tr><tr><th></th><th>Float64</th><th>Float64</th></tr></thead><tbody><p>3 rows × 2 columns</p><tr><th>1</th><td>0.326531</td><td>0.64</td></tr><tr><th>2</th><td>0.489796</td><td>0.32</td></tr><tr><th>3</th><td>0.183673</td><td>0.04</td></tr></tbody></table>"
      ],
      "text/latex": [
       "\\begin{tabular}{r|cc}\n",
       "\t& cases & controls\\\\\n",
       "\t\\hline\n",
       "\t& Float64 & Float64\\\\\n",
       "\t\\hline\n",
       "\t1 & 0.326531 & 0.64 \\\\\n",
       "\t2 & 0.489796 & 0.32 \\\\\n",
       "\t3 & 0.183673 & 0.04 \\\\\n",
       "\\end{tabular}\n"
      ],
      "text/plain": [
       "\u001b[1m3×2 DataFrame\u001b[0m\n",
       "\u001b[1m Row \u001b[0m│\u001b[1m cases    \u001b[0m\u001b[1m controls \u001b[0m\n",
       "\u001b[1m     \u001b[0m│\u001b[90m Float64  \u001b[0m\u001b[90m Float64  \u001b[0m\n",
       "─────┼────────────────────\n",
       "   1 │ 0.326531      0.64\n",
       "   2 │ 0.489796      0.32\n",
       "   3 │ 0.183673      0.04"
      ]
     },
     "execution_count": 2,
     "metadata": {},
     "output_type": "execute_result"
    }
   ],
   "source": [
    "K = 0.001\n",
    "or = 3\n",
    "q = [ 0.64, 0.32, 0.04] # Controls are like population for a low prevalance disease\n",
    "a = [1, q[2]/q[1]*or, q[3]/q[1]*or^2 ] # See GWAS 1 for for how to get case frequencies from controls and OR\n",
    "f0 = 1 / sum(a) # P(X=0|D)\n",
    "f = f0 * a # Case frequencies\n",
    "DataFrame(\"cases\" => f, \"controls\" => q)"
   ]
  },
  {
   "cell_type": "code",
   "execution_count": 3,
   "id": "bdd275f2-dee7-498b-a3d8-3f87b494db74",
   "metadata": {},
   "outputs": [
    {
     "data": {
      "text/html": [
       "<table class=\"data-frame\"><thead><tr><th></th><th>genotype</th><th>risk</th></tr><tr><th></th><th>Int64</th><th>Float64</th></tr></thead><tbody><p>3 rows × 2 columns</p><tr><th>1</th><td>0</td><td>0.000510204</td></tr><tr><th>2</th><td>1</td><td>0.00153061</td></tr><tr><th>3</th><td>2</td><td>0.00459184</td></tr></tbody></table>"
      ],
      "text/latex": [
       "\\begin{tabular}{r|cc}\n",
       "\t& genotype & risk\\\\\n",
       "\t\\hline\n",
       "\t& Int64 & Float64\\\\\n",
       "\t\\hline\n",
       "\t1 & 0 & 0.000510204 \\\\\n",
       "\t2 & 1 & 0.00153061 \\\\\n",
       "\t3 & 2 & 0.00459184 \\\\\n",
       "\\end{tabular}\n"
      ],
      "text/plain": [
       "\u001b[1m3×2 DataFrame\u001b[0m\n",
       "\u001b[1m Row \u001b[0m│\u001b[1m genotype \u001b[0m\u001b[1m risk        \u001b[0m\n",
       "\u001b[1m     \u001b[0m│\u001b[90m Int64    \u001b[0m\u001b[90m Float64     \u001b[0m\n",
       "─────┼───────────────────────\n",
       "   1 │        0  0.000510204\n",
       "   2 │        1  0.00153061\n",
       "   3 │        2  0.00459184"
      ]
     },
     "execution_count": 3,
     "metadata": {},
     "output_type": "execute_result"
    }
   ],
   "source": [
    "DataFrame(\"genotype\" => 0:2, \"risk\" => K .* f ./ q)"
   ]
  },
  {
   "cell_type": "markdown",
   "id": "8302fa74-e578-4f76-b87d-bd796394cff7",
   "metadata": {},
   "source": [
    "## 4.2 Probability model for observed GWAS data"
   ]
  },
  {
   "cell_type": "markdown",
   "id": "dedd46c2-4d1e-494a-8e7d-961036e01f4e",
   "metadata": {},
   "source": [
    "##### Example 4.3"
   ]
  },
  {
   "cell_type": "code",
   "execution_count": 4,
   "id": "a04e7e6e-d7cd-403f-b758-4683b511e1b5",
   "metadata": {},
   "outputs": [
    {
     "data": {
      "image/png": "[encoded data removed]"
     },
     "execution_count": 4,
     "metadata": {},
     "output_type": "execute_result"
    }
   ],
   "source": [
    "n = 3000 # sample size for SE calculation\n",
    "f = 0.30 # MAF for SE calculation\n",
    "σ = 1 # error SD\n",
    "se = σ / √(2*f*(1-f)*n) # SE for QT GWAS\n",
    "τ = 0.1 # prior standard deviation for effect size beta under H1\n",
    "\n",
    "# Let's draw probablity densities of data under the two models, H0 and H1,\n",
    "# as a function of MLE estimate\n",
    "x = -0.30:0.01:0.30\n",
    "H1 = Normal(0, √(τ^2 + se^2))\n",
    "H0 = Normal(0, se)\n",
    "y1 = pdf.(H1, x)\n",
    "y0 = pdf.(H0, x)\n",
    "\n",
    "fig = plot(size=(400,300), xaxis=(\"estimate of beta\"), yaxis=(\"probability density of data\"))\n",
    "plot!(fig, x, y1, label=\"H1\", lwd=2, lc=\"cyan\")\n",
    "plot!(fig, x, y0, label=\"H0\", lwd=2, lc=\"magenta\")\n",
    "\n",
    "# We make a shortcut and don't simulate data at all, but we simulate estimates\n",
    "# Suppose we have two cases, first is null, second is alternative (true betas are 0 and 0.2)\n",
    "b = [ 0, 0.20]\n",
    "b_est = rand.(Normal.(b, se))\n",
    "scatter!(fig, b_est, zero(b_est), label=nothing, color=[\"blue\", \"red\"])\n",
    "# Next: log of Bayes factor of H1 vs H0, explained below\n",
    "#       use log scale to avoid inaccuracies\n",
    "log_bf_10 = logpdf(H1, b_est) - logpdf(H0, b_est)\n",
    "bf_10 = exp.(log_bf_10)\n",
    "annotate!(\n",
    "    (b_est[1], 4, text(@sprintf(\"%.2e\", bf_10[1]), 8, \"blue\")),\n",
    "    (b_est[2], 4, text(@sprintf(\"%.2e\", bf_10[2]), 8, \"red\"))\n",
    ")"
   ]
  },
  {
   "cell_type": "markdown",
   "id": "ac39e9ea-02ea-46bc-bffd-76a52ca6b907",
   "metadata": {},
   "source": [
    "## 4.3 Bayes Factor"
   ]
  },
  {
   "cell_type": "code",
   "execution_count": 5,
   "id": "92bbc7bf-fa52-403e-b561-5b611185a8d5",
   "metadata": {},
   "outputs": [
    {
     "data": {
      "text/plain": [
       "2-element Vector{Float64}:\n",
       " 3.781696224054333e-7\n",
       " 0.929635892208964"
      ]
     },
     "execution_count": 5,
     "metadata": {},
     "output_type": "execute_result"
    }
   ],
   "source": [
    "post_odds = @. bf_10 * 1e-6 / (1 - 1e-6) # P(H_1|D) / P(H_0|D)\n",
    "post_prob = @. post_odds / (1 + post_odds) # P(H_1|D)"
   ]
  },
  {
   "cell_type": "code",
   "execution_count": 6,
   "id": "67068f9f-a03f-4d43-b389-162783465028",
   "metadata": {},
   "outputs": [
    {
     "data": {
      "text/plain": [
       "2-element Vector{Float64}:\n",
       " 0.39678732517355547\n",
       " 6.342535957738673e-10"
      ]
     },
     "execution_count": 6,
     "metadata": {},
     "output_type": "execute_result"
    }
   ],
   "source": [
    "ccdf(Chisq(1), (b_est/se).^2)"
   ]
  },
  {
   "cell_type": "markdown",
   "id": "c070b743-68a0-4de3-abf0-cf577dcfbb9f",
   "metadata": {},
   "source": [
    "## 4.4 Approximate Bayes Factor"
   ]
  },
  {
   "cell_type": "markdown",
   "id": "bf2a1f1d-9e29-49ca-a4f6-f812bcc0d329",
   "metadata": {},
   "source": [
    "##### Example 4.4"
   ]
  },
  {
   "cell_type": "code",
   "execution_count": 7,
   "id": "ae86bf3e-8575-4948-9ac2-ebe26ea54cea",
   "metadata": {},
   "outputs": [
    {
     "name": "stdout",
     "output_type": "stream",
     "text": [
      "τ₁ = 0.083 has mass 0.951 in (-0.1633, 0.1633)."
     ]
    }
   ],
   "source": [
    "v = 1 # Set this to phenotypic variance\n",
    "p = 0.01 # effect explains less than 1% of the trait variance\n",
    "target_prob = 0.95 # with this probability\n",
    "maf = 0.25\n",
    "# 2*maf*(1-maf)*b^2 = p*v --> b = +/- sqrt(p*v / (2*maf*(1-maf)))\n",
    "b = √(p*v / (2*maf*(1-maf)))\n",
    "τ_seq = 0.000:0.001:1.000 # grid to evalute tau\n",
    "x = ccdf.(Normal.(0, τ_seq), b) # what is the upper tail probabilty at b for each value of tau?\n",
    "τ₁ = τ_seq[argmin(abs.(x .- (1 - target_prob)/2))] # Which is closest to the target\n",
    "@printf(\"τ₁ = %.3f has mass %.3f in (-%.4f, %.4f).\", τ₁, 1 - 2*ccdf(Normal(0, τ₁), b), b, b)"
   ]
  },
  {
   "cell_type": "markdown",
   "id": "0d6b8cd8-90cb-4a7f-ba8d-68e77c16e3cf",
   "metadata": {},
   "source": [
    "##### Example 4.5"
   ]
  },
  {
   "cell_type": "code",
   "execution_count": 8,
   "id": "d10d5f28-20d4-4b3d-8177-c0e4a9cd9f02",
   "metadata": {},
   "outputs": [
    {
     "name": "stdout",
     "output_type": "stream",
     "text": [
      "τ₁ = 0.134 has mass 0.950 in (-0.2624, 0.2624)."
     ]
    }
   ],
   "source": [
    "or = 1.3 # Effect is atmost this large\n",
    "target_prob = 0.95 # with this probability\n",
    "b = log(or)\n",
    "τ_seq = 0.000:0.001:1.000 # grid to evaluate τ\n",
    "x = ccdf.(Normal.(0, τ_seq), b) # what is the upper tail probability at b for each value of tau?\n",
    "τ₁ = τ_seq[argmin(abs.(x .- (1 - target_prob)/2))] # which is the closest to the target\n",
    "@printf(\"τ₁ = %.3f has mass %.3f in (-%.4f, %.4f).\", τ₁, 1 - 2*ccdf(Normal(0, τ₁), b), b, b)"
   ]
  },
  {
   "cell_type": "code",
   "execution_count": null,
   "id": "24e450d1-3723-4acb-ab2b-260f8fa357f4",
   "metadata": {},
   "outputs": [],
   "source": []
  }
 ],
 "metadata": {
  "kernelspec": {
   "display_name": "Julia 1.6.0",
   "language": "julia",
   "name": "julia-1.6"
  },
  "language_info": {
   "file_extension": ".jl",
   "mimetype": "application/julia",
   "name": "julia",
   "version": "1.6.0"
  }
 },
 "nbformat": 4,
 "nbformat_minor": 5
}
