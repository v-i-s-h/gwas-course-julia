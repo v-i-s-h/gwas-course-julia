{
 "cells": [
  {
   "cell_type": "markdown",
   "id": "special-manchester",
   "metadata": {},
   "source": [
    "# Statistical Power"
   ]
  },
  {
   "cell_type": "markdown",
   "id": "excess-highway",
   "metadata": {},
   "source": [
    "## 3.1 Test statistic under the alternative"
   ]
  },
  {
   "cell_type": "markdown",
   "id": "remarkable-jordan",
   "metadata": {},
   "source": [
    "\n",
    "##### Example 3.1"
   ]
  },
  {
   "cell_type": "code",
   "execution_count": null,
   "id": "decent-joshua",
   "metadata": {},
   "outputs": [],
   "source": [
    "n = 500 # individuals\n",
    "p = 5000 # SNPs for both null and alternetive\n",
    "f = 0.50 # MAF\n",
    "b.alt = 0.20 # effect size under alternative hypothesis\n",
    "x = rbinom(n, 2, f) # genotypes at 1 SNP for n individuals\n",
    "y = scale(rnorm(n)) # random phenotype noemalized to have sample sd = 1\n",
    "se = summary( lm(y ~ x) )$coeff[2, 2] # pick SE, and assume it stays constant and independent of beta\n",
    "b.hat.null = rnorm(p, 0, se) # estimates under null\n",
    "b.hat.alt = rnorm(p, b.alt, se) # estiamte under alternative\n",
    "\n",
    "par(mfrow=c(1, 2))\n",
    "# Draw the observed densities of z-scores\n",
    "plot(NULL, xlim=c(-3, 6), ylim=c(0, 0.5), xlab=\"z\",\n",
    "     ylab=\"density\", col=\"white\") # empty panel for plotting\n",
    "lines(density((b.hat.null/se)), col=\"black\", lwd=2) # Wald stat for null variants\n",
    "lines(density((b.hat.alt/se)), col=\"red\", lwd=2) # Wald stat for alternative variants\n",
    "# add theoretical densities for z-scores\n",
    "x.seq = seq(-3, 6, 0.01)\n",
    "lines(x.seq, dnorm(x.seq, 0, 1), col=\"blue\", lty=2) # for null\n",
    "lines(x.seq, dnorm(x.seq, b.alt/se, 1), col=\"orange\", lty=2) # for alternatives\n",
    "\n",
    "# Draw observed densities of z^2\n",
    "plot(NULL, xlim=c(0, 35), ylim=c(0, 1), xlab=expression(z^2),\n",
    "    ylab=\"density\", col=\"white\") # empty panel for plotting\n",
    "lines(density((b.hat.null/se)^2), col=\"black\", lwd=2) # chi-square stat for null variants\n",
    "lines(density((b.hat.alt/se)^2), col=\"red\", lwd=2) # chi-square stat for alternative variants\n",
    "# Let's add theoretical densities of the chi-square dsitributions\n",
    "x.seq = seq(0, 35, 0.01)\n",
    "lines(x.seq, dchisq(x.seq, df=1, ncp=0), col=\"blue\", lty=2) # NCP = 0 for null\n",
    "lines(x.seq, dchisq(x.seq, df=1, ncp=(b.alt/se)^2), col=\"orange\", lty=2) # NCP = (beta/se)^2 for alternate\n",
    "legend(\"topright\", leg=c(\"NULL obs'd\", \"ALT obs'd\", \"NULL theor\", \"ALT theor\"),\n",
    "      col=c(\"black\", \"red\", \"blue\", \"orange\"),\n",
    "      lty=c(1, 1, 2, 2), lwd=c(2, 2, 1, 1))\n",
    "# Let's add significance thresholds corresponding to 0.05 and 5e-8\n",
    "# By definition, the thresholds are always computed under the null\n",
    "q.thersh = qchisq(c(0.05, 5e-8), df=1, ncp=0, lower=FALSE)\n",
    "abline(v=q.thersh, col=c(\"darkgreen\", \"springgreen\"), lty=3)\n",
    "text(q.thersh+2, c(0.4, 0.4), c(\"P < 0.05\", \"P < 5e-8\"))"
   ]
  },
  {
   "cell_type": "code",
   "execution_count": null,
   "id": "confirmed-titanium",
   "metadata": {},
   "outputs": [],
   "source": [
    "q.thresh = qchisq(c(0.05, 5e-8), df=1, ncp=0, lower=FALSE) # repeating thersholds in chi-square\n",
    "pchisq(q.thresh, df=1, ncp=(b.alt/se)^2, lower=FALSE) # corresponding to the right tail probabilites"
   ]
  },
  {
   "cell_type": "markdown",
   "id": "pointed-deficit",
   "metadata": {},
   "source": [
    "## 3.2 Ingredients of power"
   ]
  },
  {
   "cell_type": "markdown",
   "id": "periodic-latino",
   "metadata": {},
   "source": [
    "##### Example 3.2"
   ]
  },
  {
   "cell_type": "code",
   "execution_count": null,
   "id": "willing-negotiation",
   "metadata": {},
   "outputs": [],
   "source": [
    "f = 0.5\n",
    "b.alt = 0.2\n",
    "sigma = sqrt(1 - 2*f*(1-f)*b.alt^2) # error sd after SNP effect is accounted for\n",
    "ns = seq(500, 4000, 10) # candidate values for n\n",
    "ses = sigma / sqrt(ns*2*f*(1-f)) # SEs corresponding to each candidate n\n",
    "q.thersh = qchisq(5e-8, df=1, ncp=0, lower=FALSE) # chi-sqr thershold corresponding to 5e-8\n",
    "pwr = pchisq(q.thersh, df=1, ncp=(b.alt/ses)^2, lower=FALSE) # power at alpha=5e-8 for VECTOR of SE values\n",
    "plot(ns, pwr, col=\"darkgreen\", xlab=\"n\", ylab=\"power\",\n",
    "    main=paste0(\"QT sd=1; MAF=\", f, \"; beta =\", b.alt), t=\"l\", lwd=1.5)\n",
    "abline(h=0.90, lty=2)"
   ]
  },
  {
   "cell_type": "code",
   "execution_count": null,
   "id": "assured-bottom",
   "metadata": {},
   "outputs": [],
   "source": [
    "# Let's output the first n that gives power >= 90%\n",
    "ns[min(which(pwr >= 0.90))]"
   ]
  },
  {
   "cell_type": "code",
   "execution_count": null,
   "id": "freelance-toddler",
   "metadata": {},
   "outputs": [],
   "source": [
    "2 * f * (1-f) * b.alt^2"
   ]
  },
  {
   "cell_type": "markdown",
   "id": "affecting-milan",
   "metadata": {},
   "source": [
    "##### Example 3.3"
   ]
  },
  {
   "cell_type": "code",
   "execution_count": null,
   "id": "secret-turning",
   "metadata": {},
   "outputs": [],
   "source": [
    "f = 0.5\n",
    "y.explained = 0.005\n",
    "b.alt = sqrt(y.explained / (2*f*(1-f))) # this is beta that explains 0.5%\n",
    "sigma = sqrt(1 - y.explained) # error sd after SNP effect is accounted for\n",
    "ns = seq(1000, 12000, 10) # candidate n\n",
    "ses = sigma / sqrt(ns * 2 * f * (1-f)) # SE corresponding to each n\n",
    "q.thresh = qchisq(5e-8, df=1, ncp=0, lower=F) # threshold corresp alpha=5e-8\n",
    "pwr = pchisq(q.thresh, df=1, ncp=(b.alt/ses)^2, lower=F) # power at alphs = 5e-8\n",
    "plot(ns, pwr, col=\"darkgreen\", xlab=\"n\", ylab=\"power\",\n",
    "     main=paste0(\"QT sd=1; MAF=\", f, \"; beta=\", b.alt), t=\"l\", lwd=1.5)\n",
    "abline(h=0.90, lty=2)"
   ]
  },
  {
   "cell_type": "code",
   "execution_count": null,
   "id": "fluid-compound",
   "metadata": {},
   "outputs": [],
   "source": [
    "# Let's output n that is the first that gives power >= 90%\n",
    "ns[min(which(pwr >= 0.90))]"
   ]
  },
  {
   "cell_type": "markdown",
   "id": "funky-protocol",
   "metadata": {},
   "source": [
    "##### Example 3.6"
   ]
  },
  {
   "cell_type": "code",
   "execution_count": null,
   "id": "amino-medline",
   "metadata": {},
   "outputs": [],
   "source": [
    "n = c(500000, 60000)\n",
    "phi = c(15000, 30000) / n\n",
    "cbind(n, phi, eff.n=n*phi*(1-phi))"
   ]
  },
  {
   "cell_type": "markdown",
   "id": "fuzzy-grave",
   "metadata": {},
   "source": [
    "##### Example 3.7"
   ]
  },
  {
   "cell_type": "code",
   "execution_count": null,
   "id": "gorgeous-jurisdiction",
   "metadata": {},
   "outputs": [],
   "source": [
    "b = log(1.1) # b is log-odds, approximately GRR for a low prevalance disease\n",
    "n = 20000\n",
    "f = 0.40\n",
    "phi = 0.50\n",
    "pchisq(qchisq(5e-8, df=1, lower=F), df=1, ncp=2*f*(1-f)*n*phi*(1-phi)*b^2, lower=F)"
   ]
  },
  {
   "cell_type": "markdown",
   "id": "close-batman",
   "metadata": {},
   "source": [
    "## 3.3 Why well powered studies are so important?"
   ]
  },
  {
   "cell_type": "code",
   "execution_count": null,
   "id": "large-sequence",
   "metadata": {},
   "outputs": [],
   "source": [
    "sz.res = read.table(\"http://www.mv.helsinki.fi/home/mjxpirin/GWAS_course/material/sz_res.txt\",\n",
    "                    as.is = TRUE, header = TRUE)\n",
    "sz.res[1,] # See what data we have"
   ]
  },
  {
   "cell_type": "code",
   "execution_count": null,
   "id": "south-forth",
   "metadata": {},
   "outputs": [],
   "source": [
    "# Let's plot the known SZ variants on frequency - effect size coordinates\n",
    "# And draw some pwoer curves there ar genome-wide significance threshold\n",
    "maf = sz.res[, \"Frq_control\"] # Not yet MAF but allele 1 frequency\n",
    "maf[maf > 0.50] = 1 - maf[maf > 0.50] # Make it to MAF: always less than 0.50\n",
    "b = abs(log(sz.res[,\"Combined_OR\"])) # effect sie on log-odds-ratio scale with positive sign\n",
    "pw.thresh = 0.50\n",
    "p.threshold = 5e-8\n",
    "plot(maf, b, ylim=c(0, 0.3), xlim=c(0.01, 0.50), xlab=\"MAF\",\n",
    "     ylab=\"EFFECT SIZE (in logs-odds-ratio)\", xaxt=\"n\", yaxt=\"n\",\n",
    "     log=\"x\",\n",
    "    main=substitute(paste(\"Power = \", pw.thresh, \" at \", alpha, \" = \", p.threshold),\n",
    "                   list(pw.thresh=pw.thresh, p.threshold=p.threshold)),\n",
    "    cex.main=1.8, cex.lab=1.3, pch=19)\n",
    "axis(1, at=c(0.01, 0.02, 0.05, 0.10, 0.24, 0.50), cex.axis=1.3)\n",
    "axis(2, at=c(0.00, 0.05, 0.10, 0.15, 0.20, 0.25, 0.30), cex.axis=1.3)\n",
    "grid()\n",
    "\n",
    "q = qchisq(p.threshold, df=1, lower=F) # Chisq value corresp. significance threhold\n",
    "# matrix of numbers of cases (col1) and controls (col2)\n",
    "Ns = matrix(c(3332, 3587, 10000, 10000, 34000, 45600), ncol=2, byrow=T)\n",
    "cols = c(\"green\", \"cyan\", \"blue\")\n",
    "\n",
    "f = seq(0.01, 0.50, length=200)\n",
    "b = seq(0, 0.30, length=200)\n",
    "legends = c()\n",
    "par(mar=c(6, 6, 5, 1))\n",
    "for(set in 1:nrow(Ns)){\n",
    "    pw = rep(NA, length(b)) # power at each candidate b\n",
    "    b.for.f = rep(NA, length(f)) # for each f gives the b value that leads to target power\n",
    "    for(i in 1:length(f)) {\n",
    "        pw = pchisq(q, df=1, ncp=Ns[set, 1]*Ns[set, 2] / sum(Ns[set,])*2*f[i]*(1-f[i])*b^2, lower=F)\n",
    "        b.for.f[i] = b[min(which(pw > pw.thresh))]\n",
    "    }\n",
    "    lines(f, b.for.f, t=\"l\", col=cols[set], lwd=1.6)\n",
    "    legends=c(legends, paste(Ns[set,], collapse=\"/\")) # make a \"#case/#controls\" tag for legend\n",
    "}\n",
    "legend(\"bottomleft\", lty=c(1, 1), col=cols, legend=legends, lwd=2, cex=1.3)"
   ]
  },
  {
   "cell_type": "code",
   "execution_count": null,
   "id": "informal-european",
   "metadata": {},
   "outputs": [],
   "source": []
  }
 ],
 "metadata": {
  "kernelspec": {
   "display_name": "R [conda env:r-lab]",
   "language": "R",
   "name": "conda-env-r-lab-r"
  },
  "language_info": {
   "codemirror_mode": "r",
   "file_extension": ".r",
   "mimetype": "text/x-r-source",
   "name": "R",
   "pygments_lexer": "r",
   "version": "3.6.1"
  }
 },
 "nbformat": 4,
 "nbformat_minor": 5
}
