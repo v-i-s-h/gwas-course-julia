{
 "cells": [
  {
   "cell_type": "markdown",
   "id": "junior-meter",
   "metadata": {},
   "source": [
    "# P-values in GWAS"
   ]
  },
  {
   "cell_type": "markdown",
   "id": "lyric-translation",
   "metadata": {},
   "source": [
    "## 2.1 What is P-value?"
   ]
  },
  {
   "cell_type": "code",
   "execution_count": null,
   "id": "downtown-trader",
   "metadata": {},
   "outputs": [],
   "source": [
    "n = 100\n",
    "f = 0.30 # MAF\n",
    "x = rbinom(n, 2, f) # example genotypes for n individuals\n",
    "y = rnorm(n) # outcome that is independent of x\n",
    "lm.fit = lm(y ~ x)\n",
    "\n",
    "summary(lm.fit)"
   ]
  },
  {
   "cell_type": "code",
   "execution_count": null,
   "id": "damaged-jewel",
   "metadata": {},
   "outputs": [],
   "source": [
    "par(mfrow = c(1, 2)) # draw two panels on the grid with 1 row and 2 cols\n",
    "\n",
    "#1 on t-statistic's scale\n",
    "x.grid = seq(-3, 3, 0.05) # we need to define the plotting the region\n",
    "plot(x.grid, dt(x.grid, df=n-2), lty=2, lwd=2, t = \"l\",\n",
    "     xlab=expression(hat(beta)/SE), ylab=\"density\", main=\"NULL DISTR of t\") # null distribution of t-statistic\n",
    "t.stat = summary(lm.fit)$coeff[2, 3]\n",
    "points(t.stat, 0, pch=19, cex=1.5, col=\"red\")\n",
    "segments(t.stat*c(1, -1), c(0, 0), t.stat*c(1, -1), rep(dt(t.stat, df=n-2), 2), col=\"red\")\n",
    "text(2, 0.25, paste0(\"P=\", signif(summary(lm.fit)$coeff[2, 4], 3)), col=\"red\")\n",
    "legend(\"topright\", pch=19, col=\"red\", leg=\"observed\")\n",
    "\n",
    "#2nd on t^2 statistics's scale\n",
    "x.grid = seq(0, 10, 0.05)\n",
    "plot(x.grid, dchisq(x.grid, df=1), lty=2, lwd=2, t=\"l\",\n",
    "     xlab=expression((hat(beta)/SE)^2), ylab=\"density\", main=\"NULL DISTR of t^2\") # null distribution of t^2\n",
    "t2.stat = summary(lm.fit)$coeff[2, 3]^2\n",
    "points(t2.stat, 0, pch=19, cex=1.5, col=\"red\")\n",
    "segments(t2.stat, 0, t2.stat, dchisq(t2.stat, df=1), col=\"red\")\n",
    "text(2.5, 0.25, paste0(\"P=\", signif(summary(lm.fit)$coeff[2, 4], 3)), col=\"red\")\n",
    "legend(\"topright\", pch=19, col=\"red\", leg=\"observed\")"
   ]
  },
  {
   "cell_type": "code",
   "execution_count": null,
   "id": "cooked-disaster",
   "metadata": {},
   "outputs": [],
   "source": [
    "z = summary(lm.fit)$coeff[2, 3] # t-statistic also called z-score under Normal approximation\n",
    "pnorm(-abs(z), 0, 1, lower=T) + pnorm(abs(z), 0, 1, lower=F) # P-value from N(0, 1): left + right tails"
   ]
  },
  {
   "cell_type": "code",
   "execution_count": null,
   "id": "premier-thunder",
   "metadata": {},
   "outputs": [],
   "source": [
    "pchisq(z^2, df=1, lower=F)"
   ]
  },
  {
   "cell_type": "markdown",
   "id": "successful-nurse",
   "metadata": {},
   "source": [
    "## 2.2 Distribution of P-values"
   ]
  },
  {
   "cell_type": "code",
   "execution_count": null,
   "id": "adolescent-coordination",
   "metadata": {},
   "outputs": [],
   "source": [
    "set.seed(39)\n",
    "n = 100 # individuals\n",
    "p = 1000 # variants measured on each individual\n",
    "f = 0.40 # MAF is assumed the same for all variants; doesn't actually matter here\n",
    "X = matrix(rbinom(n*p, 2, f), nrow=n, ncol=p) # just random genotypes\n",
    "y = rnorm(n) # phenotype that is not associated with any of geneotypes\n",
    "\n",
    "# Apply lm to each column of X seperately and collect results for gentypes (row 2 of coeff)\n",
    "lm.res = apply(X, 2, function(x) summary(lm(y ~ x))$coeff[2,])\n",
    "# results has 4 rows: beta, SE, t-stat and pval\n",
    "pval = lm.res[4,] # pick values\n",
    "\n",
    "par(mfrow=c(1, 2))\n",
    "plot(density(lm.res[3,]), sub=\"\", xlab=\"t-stat\", main=\"\", lwd=2) # should be t with n-2 df\n",
    "x.seq = seq(-4, 4, 0.1) # x-coordinates for plotting\n",
    "lines(x.seq, dt(x.seq, df=n-2), col=\"blue\", lty=2) # t distribution in blue\n",
    "lines(x.seq, dnorm(x.seq), col=\"red\", lty=3) # normal distribution in red\n",
    "hist(pval, breaks=10, xlab=\"P-value\", main=\"\", col=\"limegreen\") # should be uniformely dsitributed"
   ]
  },
  {
   "cell_type": "code",
   "execution_count": null,
   "id": "coupled-stability",
   "metadata": {},
   "outputs": [],
   "source": [
    "par(mfrow=c(1, 2)) # Let's make qqplots for t-stats and P-values\n",
    "qqnorm(lm.res[3,], cex=0.5, pch=3)\n",
    "qqline(lm.res[3,], col=\"red\")\n",
    "\n",
    "# For P-values, we want to compare to the Uniform(0, 1) distribution\n",
    "# We use ppoints(p) to get\n",
    "# p equally spaced values in (0, 1) to represent quantiles of Uniform(0, 1).\n",
    "# We take -log10 trasnformation to see small P-values particularly well\n",
    "qqplot(-log10(ppoints(p)), -log10(pval), xlab=\"theoretical\",\n",
    "       ylab=\"obs'd\", main=\"Q-Q Plot for -log10 Pval\", cex=0.5, pch=3)\n",
    "abline(0, 1, col=\"red\")"
   ]
  },
  {
   "cell_type": "code",
   "execution_count": null,
   "id": "acquired-samoa",
   "metadata": {},
   "outputs": [],
   "source": [
    "par(pty=\"s\")\n",
    "plot(ecdf(pval), xlab=\"sig thresh\", ylab=\"proportion Pval < thresh\", main=\"ECDF of Pvalues\")"
   ]
  },
  {
   "cell_type": "code",
   "execution_count": null,
   "id": "adverse-tomorrow",
   "metadata": {},
   "outputs": [],
   "source": [
    "sum(pval < 0.05)"
   ]
  },
  {
   "cell_type": "code",
   "execution_count": null,
   "id": "automated-extraction",
   "metadata": {},
   "outputs": [],
   "source": [
    "set.seed(49)\n",
    "n = 1000 # inidividuals\n",
    "p = 1000 # genotypes measured on each individual\n",
    "m = 50 # number of variants that have an effect: they are x_1, ..., x_m\n",
    "f = 0.4 # MAF\n",
    "b = 0.5 # effect size of variants that have an effect\n",
    "X = matrix(rbinom(n*p, 2, f), nrow=n, ncol=p) # just random genetypes at SNPs\n",
    "y = X[,1:m] %*% rep(b, m) + rnorm(n) # phenotype that is associated with x_1, ..., x_m\n",
    "\n",
    "# apply lm to each column of X seperately\n",
    "lm.res = apply(X, 2, function(x) summary(lm(y ~ x))$coeff[2,])\n",
    "# has 4 rows: ebta, SE, t-stat, and pval\n",
    "pval = lm.res[4,]\n",
    "               \n",
    "par(mfrow=c(1, 2))\n",
    "plot(density(lm.res[3,]), sub=\"\", xlab=\"t-stat\", main=\"\", lwd=2) # under null is t with n-2 df\n",
    "lines(seq(-4, 4, 0.1), dnorm(seq(-4, 4, 0.1)), col=\"red\", lty=3) # normal distribution in red\n",
    "hist(pval, breaks=10, xlab=\"P-value\", main=\"\", col=\"skyblue\") # under null is uniformly distributed"
   ]
  },
  {
   "cell_type": "code",
   "execution_count": null,
   "id": "piano-tribe",
   "metadata": {},
   "outputs": [],
   "source": [
    "par(mfrow=c(1,2)) # Let's make qqplots for t-stats and for P-values\n",
    "qqnorm(lm.res[3,], cex=0.5, pch=3)\n",
    "qqline(lm.res[3,], col=\"red\")\n",
    "qqplot(-log10(ppoints(p)), -log10(pval), xlab=\"theoretical\", ylab=\"obs'd\",\n",
    "       main=\"Q-Q Plot for -log10 Pval\", cex=0.50, pch=3)\n",
    "abline(0, 1, col=\"red\")"
   ]
  },
  {
   "cell_type": "code",
   "execution_count": null,
   "id": "white-multiple",
   "metadata": {},
   "outputs": [],
   "source": [
    "p.T = 1e-6\n",
    "prior.odds = p.T / (1 - p.T)\n",
    "pwr = 1 # upper bound for power --> upper bound for alphs\n",
    "post.odds = 0.95 / (1 - 0.95)\n",
    "alpha = prior.odds * pwr / post.odds\n",
    "paste0(signif(alpha, 3))"
   ]
  },
  {
   "cell_type": "code",
   "execution_count": null,
   "id": "removable-football",
   "metadata": {},
   "outputs": [],
   "source": []
  }
 ],
 "metadata": {
  "kernelspec": {
   "display_name": "R [conda env:r-lab]",
   "language": "R",
   "name": "conda-env-r-lab-r"
  },
  "language_info": {
   "codemirror_mode": "r",
   "file_extension": ".r",
   "mimetype": "text/x-r-source",
   "name": "R",
   "pygments_lexer": "r",
   "version": "3.6.1"
  }
 },
 "nbformat": 4,
 "nbformat_minor": 5
}
