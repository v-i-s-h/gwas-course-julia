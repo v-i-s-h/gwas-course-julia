{
 "cells": [
  {
   "cell_type": "markdown",
   "id": "regional-spring",
   "metadata": {},
   "source": [
    "# 1. What is GWAS?"
   ]
  },
  {
   "cell_type": "markdown",
   "id": "underlying-purchase",
   "metadata": {},
   "source": [
    "## 1.1 Genetic variation"
   ]
  },
  {
   "cell_type": "markdown",
   "id": "focused-sensitivity",
   "metadata": {},
   "source": [
    "### 1.1.2 Genotypes and Hardy-Weinberg equilibrium"
   ]
  },
  {
   "cell_type": "markdown",
   "id": "referenced-ukraine",
   "metadata": {},
   "source": [
    "##### Example 1.1"
   ]
  },
  {
   "cell_type": "code",
   "execution_count": null,
   "id": "complex-stone",
   "metadata": {},
   "outputs": [],
   "source": [
    "geno = c(66, 29, 4)\n",
    "n = sum(geno)\n",
    "f = sum(geno * c(0, 1, 2)) / (2*n)\n",
    "f"
   ]
  },
  {
   "cell_type": "code",
   "execution_count": null,
   "id": "champion-fireplace",
   "metadata": {},
   "outputs": [],
   "source": [
    "hwe.prop = c((1-f)^2, 2*f*(1-f), f^2)\n",
    "rbind(obs = geno/n, hwe = hwe.prop)"
   ]
  },
  {
   "cell_type": "code",
   "execution_count": null,
   "id": "played-taxation",
   "metadata": {},
   "outputs": [],
   "source": [
    "hwe.test = sum((geno - n*hwe.prop)^2 / (n*hwe.prop))\n",
    "hwe.p = pchisq(hwe.test, df=1, lower=FALSE)\n",
    "\n",
    "barplot(geno, main=paste0(\"rs429358 FIN in 1000G Phase3; HWE P=\", signif(hwe.p, 3)),\n",
    "        names = c(0, 1, 2), xlab = \"genotype\", col=\"skyblue\")"
   ]
  },
  {
   "cell_type": "markdown",
   "id": "motivated-republican",
   "metadata": {},
   "source": [
    "##### Synthetic data"
   ]
  },
  {
   "cell_type": "code",
   "execution_count": null,
   "id": "experienced-fetish",
   "metadata": {},
   "outputs": [],
   "source": [
    "set.seed(19)\n",
    "n = 1000\n",
    "sample.from.geno = sample(c(0, 1, 2), prob=geno, size=n, replace=T)\n",
    "tab = table(sample.from.geno)\n",
    "counts.from.geno = rep(0, 3)\n",
    "counts.from.geno[1 + as.numeric(names(tab))] = as.numeric(tab)\n",
    "\n",
    "sample.from.hwe = rbinom(n, size=2, p=f)\n",
    "counts.from.hwe = rep(0, 3)\n",
    "for(ii in 0:2) {\n",
    "    counts.from.hwe[ii+1] = sum(sample.from.hwe == ii)\n",
    "}\n",
    "\n",
    "rbind(geno = counts.from.geno/n, hwe = counts.from.hwe/n)"
   ]
  },
  {
   "cell_type": "code",
   "execution_count": null,
   "id": "quick-publication",
   "metadata": {},
   "outputs": [],
   "source": [
    "barplot(cbind(counts.from.geno/n, hwe=counts.from.hwe/n),\n",
    "       names=c(\"geno\", \"HWE\"), beside=F, horiz=T)"
   ]
  },
  {
   "cell_type": "code",
   "execution_count": null,
   "id": "indonesian-covering",
   "metadata": {},
   "outputs": [],
   "source": [
    "interval.from.geno = matrix(NA, ncol=2, nrow=3)\n",
    "interval.from.hwe = matrix(NA, ncol=2, nrow=3)\n",
    "for(ii in 1:3) {\n",
    "    interval.from.geno[ii,] = qbeta(c(0.025, 0.975), counts.from.geno[ii]+0.5, n-counts.from.geno[ii]+0.5)\n",
    "    interval.from.hwe[ii,] = qbeta(c(0.025, 0.975), counts.from.hwe[ii]+0.5, n-counts.from.hwe[ii]+0.5)\n",
    "}"
   ]
  },
  {
   "cell_type": "code",
   "execution_count": null,
   "id": "military-workplace",
   "metadata": {},
   "outputs": [],
   "source": [
    "cbind(geno.est = counts.from.geno/n, interval.from.geno,\n",
    "     hwe.est=counts.from.hwe/n, interval.from.hwe)"
   ]
  },
  {
   "cell_type": "code",
   "execution_count": null,
   "id": "desperate-atlantic",
   "metadata": {},
   "outputs": [],
   "source": [
    "chisq_result <- chisq.test(rbind(counts.from.geno, counts.from.hwe))\n",
    "chisq_result"
   ]
  },
  {
   "cell_type": "markdown",
   "id": "departmental-merchandise",
   "metadata": {},
   "source": [
    "## 1.2 What is a genome-wide association study?"
   ]
  },
  {
   "cell_type": "markdown",
   "id": "european-cyprus",
   "metadata": {},
   "source": [
    "### 1.2.1 Quantitative traits"
   ]
  },
  {
   "cell_type": "code",
   "execution_count": null,
   "id": "dried-omaha",
   "metadata": {},
   "outputs": [],
   "source": [
    "n = 10000\n",
    "f = 0.04\n",
    "mu = c(0.02, -0.40, -2.00) # mean of each genotype\n",
    "sigma = c(1, 1, 1) # SD for each genotype\n",
    "\n",
    "x = rbinom(n, size=2, p=f)\n",
    "table(x) / n"
   ]
  },
  {
   "cell_type": "code",
   "execution_count": null,
   "id": "negative-captain",
   "metadata": {},
   "outputs": [],
   "source": [
    "y = rep(NA, n)\n",
    "for(ii in 0:2) {\n",
    "    y[x==ii] = rnorm(sum(x==ii), mu[1+ii], sigma[1+ii])\n",
    "}\n",
    "\n",
    "boxplot(y ~ x, main=\"Simulated rs11591147 in Finns\", ylabel=\"LDL\",\n",
    "        xlab=\"Copies of T\", col=\"limegreen\")"
   ]
  },
  {
   "cell_type": "markdown",
   "id": "certified-block",
   "metadata": {},
   "source": [
    "##### Additive model"
   ]
  },
  {
   "cell_type": "code",
   "execution_count": null,
   "id": "liked-constant",
   "metadata": {},
   "outputs": [],
   "source": [
    "lm.fit = lm(y ~ x)\n",
    "summary(lm.fit)"
   ]
  },
  {
   "cell_type": "code",
   "execution_count": null,
   "id": "statistical-magic",
   "metadata": {},
   "outputs": [],
   "source": [
    "plot(x + runif(n, -0.05, 0.05), y, xlab=\"genotype\", ylab=\"LDL\", xaxt=\"n\",\n",
    "     pch=3, cex=0.50, col=\"gray\")\n",
    "axis(1, at = 0:2, labels=0:2)\n",
    "points(0:2, c(mean(y[x==0]), mean(y[x==1]), mean(y[x==2])), col=\"red\", pch=\"X\", cex=1.3)\n",
    "abline(lm.fit, col=\"orange\", lwd=2)\n",
    "legend(\"topright\", pch=\"X\", legend=\"group means\", col=\"red\")"
   ]
  },
  {
   "cell_type": "code",
   "execution_count": null,
   "id": "southeast-track",
   "metadata": {},
   "outputs": [],
   "source": [
    "z = as.numeric(x == 2)\n",
    "lm.full = lm(y ~ x + z)\n",
    "summary(lm.full)"
   ]
  },
  {
   "cell_type": "code",
   "execution_count": null,
   "id": "together-austin",
   "metadata": {},
   "outputs": [],
   "source": [
    "lm.full2 = lm(y ~ as.factor(x))\n",
    "summary(lm.full2)"
   ]
  },
  {
   "cell_type": "markdown",
   "id": "speaking-ribbon",
   "metadata": {},
   "source": [
    "##### Quantile normalization"
   ]
  },
  {
   "cell_type": "code",
   "execution_count": null,
   "id": "limiting-combine",
   "metadata": {},
   "outputs": [],
   "source": [
    "n = 200 # males + females\n",
    "fem = rep(c(0, 1), each=n/2) # who is female\n",
    "y = 2 + rgamma(n, shape=1.5, scale=1.5) # males have shift of 2\n",
    "y[fem==1] = 4 + y[fem==1] # females have shift of 6 = 2 + 4\n",
    "hist(y, breaks=30, col=\"khaki\") # shows some outliesr compared to mixture of 2 Normals"
   ]
  },
  {
   "cell_type": "code",
   "execution_count": null,
   "id": "integrated-prior",
   "metadata": {},
   "outputs": [],
   "source": []
  }
 ],
 "metadata": {
  "kernelspec": {
   "display_name": "R [conda env:r-lab]",
   "language": "R",
   "name": "conda-env-r-lab-r"
  },
  "language_info": {
   "codemirror_mode": "r",
   "file_extension": ".r",
   "mimetype": "text/x-r-source",
   "name": "R",
   "pygments_lexer": "r",
   "version": "3.6.1"
  }
 },
 "nbformat": 4,
 "nbformat_minor": 5
}
