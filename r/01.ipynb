{
 "cells": [
  {
   "cell_type": "markdown",
   "id": "demanding-helicopter",
   "metadata": {},
   "source": [
    "# 1. What is GWAS?"
   ]
  },
  {
   "cell_type": "markdown",
   "id": "dying-database",
   "metadata": {},
   "source": [
    "## 1.1 Genetic variation"
   ]
  },
  {
   "cell_type": "markdown",
   "id": "potential-senior",
   "metadata": {},
   "source": [
    "### 1.1.2 Genotypes and Hardy-Weinberg equilibrium"
   ]
  },
  {
   "cell_type": "markdown",
   "id": "chemical-governor",
   "metadata": {},
   "source": [
    "##### Example 1.1"
   ]
  },
  {
   "cell_type": "code",
   "execution_count": null,
   "id": "engaged-today",
   "metadata": {},
   "outputs": [],
   "source": [
    "geno = c(66, 29, 4)\n",
    "n = sum(geno)\n",
    "f = sum(geno * c(0, 1, 2)) / (2*n)\n",
    "f"
   ]
  },
  {
   "cell_type": "code",
   "execution_count": null,
   "id": "continent-encyclopedia",
   "metadata": {},
   "outputs": [],
   "source": [
    "hwe.prop = c((1-f)^2, 2*f*(1-f), f^2)\n",
    "rbind(obs = geno/n, hwe = hwe.prop)"
   ]
  },
  {
   "cell_type": "code",
   "execution_count": null,
   "id": "supposed-investigation",
   "metadata": {},
   "outputs": [],
   "source": [
    "hwe.test = sum((geno - n*hwe.prop)^2 / (n*hwe.prop))\n",
    "hwe.p = pchisq(hwe.test, df=1, lower=FALSE)\n",
    "\n",
    "barplot(geno, main=paste0(\"rs429358 FIN in 1000G Phase3; HWE P=\", signif(hwe.p, 3)),\n",
    "        names = c(0, 1, 2), xlab = \"genotype\", col=\"skyblue\")"
   ]
  },
  {
   "cell_type": "markdown",
   "id": "genuine-dream",
   "metadata": {},
   "source": [
    "##### Synthetic data"
   ]
  },
  {
   "cell_type": "code",
   "execution_count": null,
   "id": "after-reconstruction",
   "metadata": {},
   "outputs": [],
   "source": [
    "set.seed(19)\n",
    "n = 1000\n",
    "sample.from.geno = sample(c(0, 1, 2), prob=geno, size=n, replace=T)\n",
    "tab = table(sample.from.geno)\n",
    "counts.from.geno = rep(0, 3)\n",
    "counts.from.geno[1 + as.numeric(names(tab))] = as.numeric(tab)\n",
    "\n",
    "sample.from.hwe = rbinom(n, size=2, p=f)\n",
    "counts.from.hwe = rep(0, 3)\n",
    "for(ii in 0:2) {\n",
    "    counts.from.hwe[ii+1] = sum(sample.from.hwe == ii)\n",
    "}\n",
    "\n",
    "rbind(geno = counts.from.geno/n, hwe = counts.from.hwe/n)"
   ]
  },
  {
   "cell_type": "code",
   "execution_count": null,
   "id": "original-brother",
   "metadata": {},
   "outputs": [],
   "source": [
    "barplot(cbind(counts.from.geno/n, hwe=counts.from.hwe/n),\n",
    "       names=c(\"geno\", \"HWE\"), beside=F, horiz=T)"
   ]
  },
  {
   "cell_type": "code",
   "execution_count": null,
   "id": "intense-living",
   "metadata": {},
   "outputs": [],
   "source": [
    "interval.from.geno = matrix(NA, ncol=2, nrow=3)\n",
    "interval.from.hwe = matrix(NA, ncol=2, nrow=3)\n",
    "for(ii in 1:3) {\n",
    "    interval.from.geno[ii,] = qbeta(c(0.025, 0.975), counts.from.geno[ii]+0.5, n-counts.from.geno[ii]+0.5)\n",
    "    interval.from.hwe[ii,] = qbeta(c(0.025, 0.975), counts.from.hwe[ii]+0.5, n-counts.from.hwe[ii]+0.5)\n",
    "}"
   ]
  },
  {
   "cell_type": "code",
   "execution_count": null,
   "id": "broken-recall",
   "metadata": {},
   "outputs": [],
   "source": [
    "cbind(geno.est = counts.from.geno/n, interval.from.geno,\n",
    "     hwe.est=counts.from.hwe/n, interval.from.hwe)"
   ]
  },
  {
   "cell_type": "code",
   "execution_count": null,
   "id": "molecular-uganda",
   "metadata": {},
   "outputs": [],
   "source": [
    "chisq_result <- chisq.test(rbind(counts.from.geno, counts.from.hwe))\n",
    "chisq_result"
   ]
  },
  {
   "cell_type": "markdown",
   "id": "threaded-state",
   "metadata": {},
   "source": [
    "## 1.2 What is a genome-wide association study?"
   ]
  },
  {
   "cell_type": "markdown",
   "id": "fixed-angola",
   "metadata": {},
   "source": [
    "### 1.2.1 Quantitative traits"
   ]
  },
  {
   "cell_type": "code",
   "execution_count": null,
   "id": "distributed-hungarian",
   "metadata": {},
   "outputs": [],
   "source": [
    "n = 10000\n",
    "f = 0.04\n",
    "mu = c(0.02, -0.40, -2.00) # mean of each genotype\n",
    "sigma = c(1, 1, 1) # SD for each genotype\n",
    "\n",
    "x = rbinom(n, size=2, p=f)\n",
    "table(x) / n"
   ]
  },
  {
   "cell_type": "code",
   "execution_count": null,
   "id": "musical-purchase",
   "metadata": {},
   "outputs": [],
   "source": [
    "y = rep(NA, n)\n",
    "for(ii in 0:2) {\n",
    "    y[x==ii] = rnorm(sum(x==ii), mu[1+ii], sigma[1+ii])\n",
    "}\n",
    "\n",
    "boxplot(y ~ x, main=\"Simulated rs11591147 in Finns\", ylabel=\"LDL\",\n",
    "        xlab=\"Copies of T\", col=\"limegreen\")"
   ]
  },
  {
   "cell_type": "markdown",
   "id": "invalid-monitor",
   "metadata": {},
   "source": [
    "##### Additive model"
   ]
  },
  {
   "cell_type": "code",
   "execution_count": null,
   "id": "active-american",
   "metadata": {},
   "outputs": [],
   "source": [
    "lm.fit = lm(y ~ x)\n",
    "summary(lm.fit)"
   ]
  },
  {
   "cell_type": "code",
   "execution_count": null,
   "id": "medical-yellow",
   "metadata": {},
   "outputs": [],
   "source": [
    "plot(x + runif(n, -0.05, 0.05), y, xlab=\"genotype\", ylab=\"LDL\", xaxt=\"n\",\n",
    "     pch=3, cex=0.50, col=\"gray\")\n",
    "axis(1, at = 0:2, labels=0:2)\n",
    "points(0:2, c(mean(y[x==0]), mean(y[x==1]), mean(y[x==2])), col=\"red\", pch=\"X\", cex=1.3)\n",
    "abline(lm.fit, col=\"orange\", lwd=2)\n",
    "legend(\"topright\", pch=\"X\", legend=\"group means\", col=\"red\")"
   ]
  },
  {
   "cell_type": "code",
   "execution_count": null,
   "id": "growing-newport",
   "metadata": {},
   "outputs": [],
   "source": [
    "z = as.numeric(x == 2)\n",
    "lm.full = lm(y ~ x + z)\n",
    "summary(lm.full)"
   ]
  },
  {
   "cell_type": "code",
   "execution_count": null,
   "id": "lesser-assumption",
   "metadata": {},
   "outputs": [],
   "source": [
    "lm.full2 = lm(y ~ as.factor(x))\n",
    "summary(lm.full2)"
   ]
  },
  {
   "cell_type": "markdown",
   "id": "strange-sewing",
   "metadata": {},
   "source": [
    "##### Quantile normalization"
   ]
  },
  {
   "cell_type": "code",
   "execution_count": null,
   "id": "gorgeous-dating",
   "metadata": {},
   "outputs": [],
   "source": [
    "n = 200 # males + females\n",
    "fem = rep(c(0, 1), each=n/2) # who is female\n",
    "y = 2 + rgamma(n, shape=1.5, scale=1.5) # males have shift of 2\n",
    "y[fem==1] = 4 + y[fem==1] # females have shift of 6 = 2 + 4\n",
    "hist(y, breaks=30, col=\"khaki\") # shows some outliesr compared to mixture of 2 Normals"
   ]
  },
  {
   "cell_type": "code",
   "execution_count": null,
   "id": "outside-restoration",
   "metadata": {},
   "outputs": [],
   "source": [
    "# regress out sex and take residuals\n",
    "lm.fit = lm(y ~ fem)\n",
    "r = residuals(lm.fit)\n",
    "\n",
    "# find QN'ed trait values from qnorm = inverse of cumulative distribution of Normal\n",
    "inv.normalise <- function(x) { # this would also tolerate NAs\n",
    "    return(qnorm((rank(x, na.last=\"keep\") - 0.50) / sum(!is.na(x))))\n",
    "}\n",
    "q = inv.normalise(r)\n",
    "\n",
    "# Lets plot y and q (after scaling to mean=0, var=1)\n",
    "par(mfrow=c(1, 2))\n",
    "plot(density(scale(y)), col=\"black\", lwd=2, xlim=c(-4, 4), ylim=c(0, 0.5), \n",
    "     xlab=\"trait\", main=\"\")\n",
    "lines(density(scale(q)), col=\"darkgreen\", lwd=2)\n",
    "plot(y, q, col=c(\"cyan\", \"gold\")[1+fem])\n",
    "legend(\"bottomright\", col=c(\"cyan\", \"gold\"), pch=1, leg=c(\"male\", \"female\"))"
   ]
  },
  {
   "cell_type": "code",
   "execution_count": null,
   "id": "inclusive-cream",
   "metadata": {},
   "outputs": [],
   "source": []
  }
 ],
 "metadata": {
  "kernelspec": {
   "display_name": "R [conda env:r-lab]",
   "language": "R",
   "name": "conda-env-r-lab-r"
  },
  "language_info": {
   "codemirror_mode": "r",
   "file_extension": ".r",
   "mimetype": "text/x-r-source",
   "name": "R",
   "pygments_lexer": "r",
   "version": "3.6.1"
  }
 },
 "nbformat": 4,
 "nbformat_minor": 5
}
