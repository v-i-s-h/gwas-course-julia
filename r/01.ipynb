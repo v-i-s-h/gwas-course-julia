{
 "cells": [
  {
   "cell_type": "markdown",
   "id": "incident-answer",
   "metadata": {},
   "source": [
    "# 1. What is GWAS?"
   ]
  },
  {
   "cell_type": "markdown",
   "id": "encouraging-climate",
   "metadata": {},
   "source": [
    "## Genetic variation"
   ]
  },
  {
   "cell_type": "markdown",
   "id": "approved-bubble",
   "metadata": {},
   "source": [
    "### Genotypes and Hardy-Weinberg equilibrium"
   ]
  },
  {
   "cell_type": "markdown",
   "id": "varying-religion",
   "metadata": {},
   "source": [
    "##### Example 1.1"
   ]
  },
  {
   "cell_type": "code",
   "execution_count": null,
   "id": "million-revelation",
   "metadata": {},
   "outputs": [],
   "source": [
    "geno = c(66, 29, 4)\n",
    "n = sum(geno)\n",
    "f = sum(geno * c(0, 1, 2)) / (2*n)\n",
    "f"
   ]
  },
  {
   "cell_type": "code",
   "execution_count": null,
   "id": "smoking-baker",
   "metadata": {},
   "outputs": [],
   "source": [
    "hwe.prop = c((1-f)^2, 2*f*(1-f), f^2)\n",
    "rbind(obs = geno/n, hwe = hwe.prop)"
   ]
  },
  {
   "cell_type": "code",
   "execution_count": null,
   "id": "helpful-privilege",
   "metadata": {},
   "outputs": [],
   "source": [
    "hwe.test = sum((geno - n*hwe.prop)^2 / (n*hwe.prop))\n",
    "hwe.p = pchisq(hwe.test, df=1, lower=FALSE)\n",
    "\n",
    "barplot(geno, main=paste0(\"rs429358 FIN in 1000G Phase3; HWE P=\", signif(hwe.p, 3)),\n",
    "        names = c(0, 1, 2), xlab = \"genotype\", col=\"skyblue\")"
   ]
  },
  {
   "cell_type": "markdown",
   "id": "entitled-margin",
   "metadata": {},
   "source": [
    "##### Synthetic data"
   ]
  },
  {
   "cell_type": "code",
   "execution_count": null,
   "id": "theoretical-diary",
   "metadata": {},
   "outputs": [],
   "source": [
    "# set.seed(19)\n",
    "n = 1000\n",
    "sample.from.geno = sample(c(0, 1, 2), prob=geno, size=n, replace=T)\n",
    "tab = table(sample.from.geno)\n",
    "counts.from.geno = rep(0, 3)\n",
    "counts.from.geno[1 + as.numeric(names(tab))] = as.numeric(tab)\n",
    "\n",
    "sample.from.hwe = rbinom(n, size=2, p=f)\n",
    "counts.from.hwe = rep(0, 3)\n",
    "for(ii in 0:2) {\n",
    "    counts.from.hwe[ii+1] = sum(sample.from.hwe == ii)\n",
    "}\n",
    "\n",
    "rbind(geno = counts.from.geno/n, hwe = counts.from.hwe/n)"
   ]
  },
  {
   "cell_type": "code",
   "execution_count": null,
   "id": "peripheral-intersection",
   "metadata": {},
   "outputs": [],
   "source": [
    "barplot(cbind(counts.from.geno/n, hwe=counts.from.hwe/n),\n",
    "       names=c(\"geno\", \"HWE\"), beside=F, horiz=T)"
   ]
  },
  {
   "cell_type": "code",
   "execution_count": null,
   "id": "juvenile-robert",
   "metadata": {},
   "outputs": [],
   "source": [
    "interval.from.geno = matrix(NA, ncol=2, nrow=3)\n",
    "interval.from.hwe = matrix(NA, ncol=2, nrow=3)\n",
    "for(ii in 1:3) {\n",
    "    interval.from.geno[ii,] = qbeta(c(0.025, 0.975), counts.from.geno[ii]+0.5, n-counts.from.geno[ii]+0.5)\n",
    "    interval.from.hwe[ii,] = qbeta(c(0.025, 0.975), counts.from.hwe[ii]+0.5, n-counts.from.hwe[ii]+0.5)\n",
    "}"
   ]
  },
  {
   "cell_type": "code",
   "execution_count": null,
   "id": "collected-agreement",
   "metadata": {},
   "outputs": [],
   "source": [
    "cbind(geno.est = counts.from.geno/n, interval.from.geno,\n",
    "     hwe.est=counts.from.hwe/n, interval.from.hwe)"
   ]
  },
  {
   "cell_type": "code",
   "execution_count": null,
   "id": "laughing-masters",
   "metadata": {},
   "outputs": [],
   "source": [
    "chisq_result <- chisq.test(rbind(counts.from.geno, counts.from.hwe))\n",
    "chisq_result"
   ]
  },
  {
   "cell_type": "code",
   "execution_count": null,
   "id": "surprising-richmond",
   "metadata": {},
   "outputs": [],
   "source": [
    "d1 <- c(677, 288, 35)\n",
    "d2 <- c(666, 302, 32)"
   ]
  },
  {
   "cell_type": "code",
   "execution_count": null,
   "id": "collect-tracy",
   "metadata": {},
   "outputs": [],
   "source": [
    "chisq.test(rbind(d1, d2))"
   ]
  },
  {
   "cell_type": "code",
   "execution_count": null,
   "id": "expired-magazine",
   "metadata": {},
   "outputs": [],
   "source": [
    "rbind(counts.from.geno, counts.from.hwe)"
   ]
  },
  {
   "cell_type": "code",
   "execution_count": null,
   "id": "graduate-papua",
   "metadata": {},
   "outputs": [],
   "source": [
    "rbind(d1, d2)"
   ]
  },
  {
   "cell_type": "code",
   "execution_count": null,
   "id": "married-feature",
   "metadata": {},
   "outputs": [],
   "source": []
  }
 ],
 "metadata": {
  "kernelspec": {
   "display_name": "R [conda env:r-lab]",
   "language": "R",
   "name": "conda-env-r-lab-r"
  },
  "language_info": {
   "codemirror_mode": "r",
   "file_extension": ".r",
   "mimetype": "text/x-r-source",
   "name": "R",
   "pygments_lexer": "r",
   "version": "3.6.1"
  }
 },
 "nbformat": 4,
 "nbformat_minor": 5
}
