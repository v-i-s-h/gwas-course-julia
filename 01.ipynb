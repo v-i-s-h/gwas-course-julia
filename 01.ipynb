{
 "cells": [
  {
   "cell_type": "markdown",
   "id": "noble-restaurant",
   "metadata": {},
   "source": [
    "# 1. What is GWAS?"
   ]
  },
  {
   "cell_type": "code",
   "execution_count": null,
   "id": "located-insulin",
   "metadata": {},
   "outputs": [],
   "source": [
    "using DataFrames\n",
    "using Distributions\n",
    "using HypothesisTests\n",
    "using Plots\n",
    "using StatsPlots\n",
    "using Printf"
   ]
  },
  {
   "cell_type": "markdown",
   "id": "handy-cutting",
   "metadata": {},
   "source": [
    "## Genetic variation"
   ]
  },
  {
   "cell_type": "markdown",
   "id": "suburban-manufacturer",
   "metadata": {},
   "source": [
    "### Genotypes and Hardy-Weinberg equilibrium"
   ]
  },
  {
   "cell_type": "markdown",
   "id": "iraqi-unemployment",
   "metadata": {},
   "source": [
    "##### Example 1.1"
   ]
  },
  {
   "cell_type": "code",
   "execution_count": null,
   "id": "mighty-miller",
   "metadata": {},
   "outputs": [],
   "source": [
    "geno = [ 66, 29, 4]\n",
    "n = sum(geno) # number of individuals\n",
    "f = sum(geno .* [ 0, 1, 2]) / (2 * n) # (66*0 + 29*1 + 4*2) / (2 * (66+29+4))"
   ]
  },
  {
   "cell_type": "code",
   "execution_count": null,
   "id": "north-helen",
   "metadata": {},
   "outputs": [],
   "source": [
    "hwe_prop = [ (1-f)^2, 2*f*(1-f), f^2] # these would be the geno type freqa under HWE\n",
    "DataFrame(obs = geno/n, hwe = hwe_prop) # print the observed genotype freqs and the HWE"
   ]
  },
  {
   "cell_type": "code",
   "execution_count": null,
   "id": "recovered-withdrawal",
   "metadata": {},
   "outputs": [],
   "source": [
    "# For testing HWE, we use chi-square test even though counts are quite small in the last row\n",
    "hwe_test = sum( (geno - n*hwe_prop).^2 ./ (n * hwe_prop)) # HWE test statistic\n",
    "hwe_p = ccdf(Chisq(1), hwe_test) # P-value from the test\n",
    "\n",
    "bar(0:2, geno, \n",
    "    xaxis=(\"genotype\", 0:2),\n",
    "    leg=false,\n",
    "    color=\"skyblue\",\n",
    "    title=@sprintf(\"rs429358 FIN in 1000G Phase3; HWE P = %.3f\", hwe_p)\n",
    ")"
   ]
  },
  {
   "cell_type": "markdown",
   "id": "local-serve",
   "metadata": {},
   "source": [
    "##### Synthetic Data"
   ]
  },
  {
   "cell_type": "code",
   "execution_count": null,
   "id": "micro-trainer",
   "metadata": {},
   "outputs": [],
   "source": [
    "n = 1000\n",
    "\n",
    "sample_from_geno = wsample(0:2, geno, n, replace=true) # sample from genotype frequencies\n",
    "counts_from_geno = [count(x -> x==i, sample_from_geno) for i ∈ 0:2] # compute the vector of occurences\n",
    "\n",
    "sample_from_hwe = rand(Binomial(2, f), n) # sample n genotypes from Binomial(2, f)\n",
    "counts_from_hwe = [count(x -> x==i, sample_from_hwe) for i ∈ 0:2]\n",
    "\n",
    "DataFrame(geno = counts_from_geno/n, hwe = counts_from_hwe/n)"
   ]
  },
  {
   "cell_type": "code",
   "execution_count": null,
   "id": "knowing-positive",
   "metadata": {},
   "outputs": [],
   "source": [
    "groupedbar(\n",
    "    [\"geno\", \"HWE\"], [reverse(counts_from_geno')/n; reverse(counts_from_hwe)'/n],\n",
    "    orientation=:h, bar_position=:stack, legend=false, xticks=0:0.2:1\n",
    ")"
   ]
  },
  {
   "cell_type": "code",
   "execution_count": null,
   "id": "vertical-newspaper",
   "metadata": {},
   "outputs": [],
   "source": [
    "df_conf_int = DataFrame(\n",
    "    geno = counts_from_geno/n,\n",
    "    geno_lower = map(x -> quantile(Beta(x+0.5, n-x+0.5), 0.025), counts_from_geno),\n",
    "    geno_upper = map(x -> quantile(Beta(x+0.5, n-x+0.5), 0.975), counts_from_geno),\n",
    "    hwe = counts_from_hwe/n,\n",
    "    hwe_lower = map(x -> quantile(Beta(x+0.5, n-x+0.5), 0.025), counts_from_hwe),\n",
    "    hwe_upper = map(x -> quantile(Beta(x+0.5, n-x+0.5), 0.975), counts_from_hwe)\n",
    ")"
   ]
  },
  {
   "cell_type": "code",
   "execution_count": null,
   "id": "loose-aerospace",
   "metadata": {},
   "outputs": [],
   "source": [
    "ChisqTest(hcat(counts_from_geno, counts_from_hwe))"
   ]
  },
  {
   "cell_type": "code",
   "execution_count": null,
   "id": "terminal-pickup",
   "metadata": {},
   "outputs": [],
   "source": []
  }
 ],
 "metadata": {
  "kernelspec": {
   "display_name": "Julia 1.6.0",
   "language": "julia",
   "name": "julia-1.6"
  },
  "language_info": {
   "file_extension": ".jl",
   "mimetype": "application/julia",
   "name": "julia",
   "version": "1.6.0"
  }
 },
 "nbformat": 4,
 "nbformat_minor": 5
}
