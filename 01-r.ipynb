{
 "cells": [
  {
   "cell_type": "markdown",
   "id": "entire-playlist",
   "metadata": {},
   "source": [
    "# 1. What is GWAS?"
   ]
  },
  {
   "cell_type": "markdown",
   "id": "crude-webcam",
   "metadata": {},
   "source": [
    "## Genetic variation"
   ]
  },
  {
   "cell_type": "markdown",
   "id": "conventional-devon",
   "metadata": {},
   "source": [
    "### Genotypes and Hardy-Weinberg equilibrium"
   ]
  },
  {
   "cell_type": "markdown",
   "id": "cognitive-factor",
   "metadata": {},
   "source": [
    "##### Example 1.1"
   ]
  },
  {
   "cell_type": "code",
   "execution_count": null,
   "id": "aggressive-process",
   "metadata": {},
   "outputs": [],
   "source": [
    "geno = c(66, 29, 4)\n",
    "n = sum(geno)\n",
    "f = sum(geno * c(0, 1, 2)) / (2*n)\n",
    "f"
   ]
  },
  {
   "cell_type": "code",
   "execution_count": null,
   "id": "numerical-sculpture",
   "metadata": {},
   "outputs": [],
   "source": [
    "hwe.prop = c((1-f)^2, 2*f*(1-f), f^2)\n",
    "rbind(obs = geno/n, hwe = hwe.prop)"
   ]
  },
  {
   "cell_type": "code",
   "execution_count": null,
   "id": "temporal-classic",
   "metadata": {},
   "outputs": [],
   "source": [
    "hwe.test = sum((geno - n*hwe.prop)^2 / (n*hwe.prop))\n",
    "hwe.p = pchisq(hwe.test, df=1, lower=FALSE)\n",
    "\n",
    "barplot(geno, main=paste0(\"rs429358 FIN in 1000G Phase3; HWE P=\", signif(hwe.p, 3)),\n",
    "        names = c(0, 1, 2), xlab = \"genotype\", col=\"skyblue\")"
   ]
  },
  {
   "cell_type": "markdown",
   "id": "tribal-composer",
   "metadata": {},
   "source": [
    "##### Synthetic data"
   ]
  },
  {
   "cell_type": "code",
   "execution_count": null,
   "id": "bigger-jones",
   "metadata": {},
   "outputs": [],
   "source": [
    "# set.seed(19)\n",
    "n = 1000\n",
    "sample.from.geno = sample(c(0, 1, 2), prob=geno, size=n, replace=T)\n",
    "tab = table(sample.from.geno)\n",
    "counts.from.geno = rep(0, 3)\n",
    "counts.from.geno[1 + as.numeric(names(tab))] = as.numeric(tab)\n",
    "\n",
    "sample.from.hwe = rbinom(n, size=2, p=f)\n",
    "counts.from.hwe = rep(0, 3)\n",
    "for(ii in 0:2) {\n",
    "    counts.from.hwe[ii+1] = sum(sample.from.hwe == ii)\n",
    "}\n",
    "\n",
    "rbind(geno = counts.from.geno/n, hwe = counts.from.hwe/n)"
   ]
  },
  {
   "cell_type": "code",
   "execution_count": null,
   "id": "israeli-tours",
   "metadata": {},
   "outputs": [],
   "source": [
    "barplot(cbind(counts.from.geno/n, hwe=counts.from.hwe/n),\n",
    "       names=c(\"geno\", \"HWE\"), beside=F, horiz=T)"
   ]
  },
  {
   "cell_type": "code",
   "execution_count": null,
   "id": "aerial-airline",
   "metadata": {},
   "outputs": [],
   "source": [
    "interval.from.geno = matrix(NA, ncol=2, nrow=3)\n",
    "interval.from.hwe = matrix(NA, ncol=2, nrow=3)\n",
    "for(ii in 1:3) {\n",
    "    interval.from.geno[ii,] = qbeta(c(0.025, 0.975), counts.from.geno[ii]+0.5, n-counts.from.geno[ii]+0.5)\n",
    "    interval.from.hwe[ii,] = qbeta(c(0.025, 0.975), counts.from.hwe[ii]+0.5, n-counts.from.hwe[ii]+0.5)\n",
    "}"
   ]
  },
  {
   "cell_type": "code",
   "execution_count": null,
   "id": "parliamentary-michael",
   "metadata": {},
   "outputs": [],
   "source": [
    "cbind(geno.est = counts.from.geno/n, interval.from.geno,\n",
    "     hwe.est=counts.from.hwe/n, interval.from.hwe)"
   ]
  },
  {
   "cell_type": "code",
   "execution_count": null,
   "id": "white-bibliography",
   "metadata": {},
   "outputs": [],
   "source": [
    "chisq.test(rbind(counts.from.geno, counts.from.hwe))"
   ]
  },
  {
   "cell_type": "code",
   "execution_count": null,
   "id": "compatible-internet",
   "metadata": {},
   "outputs": [],
   "source": []
  }
 ],
 "metadata": {
  "kernelspec": {
   "display_name": "R [conda env:r-lab]",
   "language": "R",
   "name": "conda-env-r-lab-r"
  },
  "language_info": {
   "codemirror_mode": "r",
   "file_extension": ".r",
   "mimetype": "text/x-r-source",
   "name": "R",
   "pygments_lexer": "r",
   "version": "3.6.1"
  }
 },
 "nbformat": 4,
 "nbformat_minor": 5
}
